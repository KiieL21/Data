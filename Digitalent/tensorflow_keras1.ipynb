{
  "nbformat": 4,
  "nbformat_minor": 0,
  "metadata": {
    "colab": {
      "provenance": []
    },
    "kernelspec": {
      "name": "python3",
      "display_name": "Python 3"
    },
    "language_info": {
      "name": "python"
    }
  },
  "cells": [
    {
      "cell_type": "code",
      "execution_count": 2,
      "metadata": {
        "id": "P3mHcwnHsbDz"
      },
      "outputs": [],
      "source": [
        "import tensorflow as tf\n",
        "from tensorflow.keras import datasets\n",
        "from tensorflow.keras.models import Sequential\n",
        "from tensorflow.keras.layers import Flatten, Dense"
      ]
    },
    {
      "cell_type": "code",
      "source": [
        "fashion = datasets.fashion_mnist\n",
        "(X_train, y_train), (X_test, y_test) = fashion.load_data()"
      ],
      "metadata": {
        "colab": {
          "base_uri": "https://localhost:8080/"
        },
        "id": "x5BCY5rRsqUI",
        "outputId": "f86e5c99-1538-47a3-93df-f767e7dc2dad"
      },
      "execution_count": 3,
      "outputs": [
        {
          "output_type": "stream",
          "name": "stdout",
          "text": [
            "Downloading data from https://storage.googleapis.com/tensorflow/tf-keras-datasets/train-labels-idx1-ubyte.gz\n",
            "\u001b[1m29515/29515\u001b[0m \u001b[32m━━━━━━━━━━━━━━━━━━━━\u001b[0m\u001b[37m\u001b[0m \u001b[1m0s\u001b[0m 0us/step\n",
            "Downloading data from https://storage.googleapis.com/tensorflow/tf-keras-datasets/train-images-idx3-ubyte.gz\n",
            "\u001b[1m26421880/26421880\u001b[0m \u001b[32m━━━━━━━━━━━━━━━━━━━━\u001b[0m\u001b[37m\u001b[0m \u001b[1m2s\u001b[0m 0us/step\n",
            "Downloading data from https://storage.googleapis.com/tensorflow/tf-keras-datasets/t10k-labels-idx1-ubyte.gz\n",
            "\u001b[1m5148/5148\u001b[0m \u001b[32m━━━━━━━━━━━━━━━━━━━━\u001b[0m\u001b[37m\u001b[0m \u001b[1m0s\u001b[0m 0us/step\n",
            "Downloading data from https://storage.googleapis.com/tensorflow/tf-keras-datasets/t10k-images-idx3-ubyte.gz\n",
            "\u001b[1m4422102/4422102\u001b[0m \u001b[32m━━━━━━━━━━━━━━━━━━━━\u001b[0m\u001b[37m\u001b[0m \u001b[1m1s\u001b[0m 0us/step\n"
          ]
        }
      ]
    },
    {
      "cell_type": "code",
      "source": [
        "X_train = X_train/255.0\n",
        "X_test  = X_test/255.0"
      ],
      "metadata": {
        "id": "KEvwfdO5sxCG"
      },
      "execution_count": 4,
      "outputs": []
    },
    {
      "cell_type": "code",
      "source": [
        "model = Sequential()\n",
        "\n",
        "model.add(Flatten(input_shape=[28, 28]))\n",
        "model.add(Dense(32, activation='relu'))\n",
        "model.add(Dense(10, activation='softmax'))"
      ],
      "metadata": {
        "colab": {
          "base_uri": "https://localhost:8080/"
        },
        "id": "NfOgEHqos2LK",
        "outputId": "8a506b50-c445-45dc-88d9-5d99e9f28a83"
      },
      "execution_count": 5,
      "outputs": [
        {
          "output_type": "stream",
          "name": "stderr",
          "text": [
            "/usr/local/lib/python3.12/dist-packages/keras/src/layers/reshaping/flatten.py:37: UserWarning: Do not pass an `input_shape`/`input_dim` argument to a layer. When using Sequential models, prefer using an `Input(shape)` object as the first layer in the model instead.\n",
            "  super().__init__(**kwargs)\n"
          ]
        }
      ]
    },
    {
      "cell_type": "code",
      "source": [
        "model.summary()"
      ],
      "metadata": {
        "colab": {
          "base_uri": "https://localhost:8080/",
          "height": 238
        },
        "id": "8BWWrQdXtAO2",
        "outputId": "7db7aeb0-8390-479d-95fb-ae63f6dc08c9"
      },
      "execution_count": 6,
      "outputs": [
        {
          "output_type": "display_data",
          "data": {
            "text/plain": [
              "\u001b[1mModel: \"sequential\"\u001b[0m\n"
            ],
            "text/html": [
              "<pre style=\"white-space:pre;overflow-x:auto;line-height:normal;font-family:Menlo,'DejaVu Sans Mono',consolas,'Courier New',monospace\"><span style=\"font-weight: bold\">Model: \"sequential\"</span>\n",
              "</pre>\n"
            ]
          },
          "metadata": {}
        },
        {
          "output_type": "display_data",
          "data": {
            "text/plain": [
              "┏━━━━━━━━━━━━━━━━━━━━━━━━━━━━━━━━━┳━━━━━━━━━━━━━━━━━━━━━━━━┳━━━━━━━━━━━━━━━┓\n",
              "┃\u001b[1m \u001b[0m\u001b[1mLayer (type)                   \u001b[0m\u001b[1m \u001b[0m┃\u001b[1m \u001b[0m\u001b[1mOutput Shape          \u001b[0m\u001b[1m \u001b[0m┃\u001b[1m \u001b[0m\u001b[1m      Param #\u001b[0m\u001b[1m \u001b[0m┃\n",
              "┡━━━━━━━━━━━━━━━━━━━━━━━━━━━━━━━━━╇━━━━━━━━━━━━━━━━━━━━━━━━╇━━━━━━━━━━━━━━━┩\n",
              "│ flatten (\u001b[38;5;33mFlatten\u001b[0m)               │ (\u001b[38;5;45mNone\u001b[0m, \u001b[38;5;34m784\u001b[0m)            │             \u001b[38;5;34m0\u001b[0m │\n",
              "├─────────────────────────────────┼────────────────────────┼───────────────┤\n",
              "│ dense (\u001b[38;5;33mDense\u001b[0m)                   │ (\u001b[38;5;45mNone\u001b[0m, \u001b[38;5;34m32\u001b[0m)             │        \u001b[38;5;34m25,120\u001b[0m │\n",
              "├─────────────────────────────────┼────────────────────────┼───────────────┤\n",
              "│ dense_1 (\u001b[38;5;33mDense\u001b[0m)                 │ (\u001b[38;5;45mNone\u001b[0m, \u001b[38;5;34m10\u001b[0m)             │           \u001b[38;5;34m330\u001b[0m │\n",
              "└─────────────────────────────────┴────────────────────────┴───────────────┘\n"
            ],
            "text/html": [
              "<pre style=\"white-space:pre;overflow-x:auto;line-height:normal;font-family:Menlo,'DejaVu Sans Mono',consolas,'Courier New',monospace\">┏━━━━━━━━━━━━━━━━━━━━━━━━━━━━━━━━━┳━━━━━━━━━━━━━━━━━━━━━━━━┳━━━━━━━━━━━━━━━┓\n",
              "┃<span style=\"font-weight: bold\"> Layer (type)                    </span>┃<span style=\"font-weight: bold\"> Output Shape           </span>┃<span style=\"font-weight: bold\">       Param # </span>┃\n",
              "┡━━━━━━━━━━━━━━━━━━━━━━━━━━━━━━━━━╇━━━━━━━━━━━━━━━━━━━━━━━━╇━━━━━━━━━━━━━━━┩\n",
              "│ flatten (<span style=\"color: #0087ff; text-decoration-color: #0087ff\">Flatten</span>)               │ (<span style=\"color: #00d7ff; text-decoration-color: #00d7ff\">None</span>, <span style=\"color: #00af00; text-decoration-color: #00af00\">784</span>)            │             <span style=\"color: #00af00; text-decoration-color: #00af00\">0</span> │\n",
              "├─────────────────────────────────┼────────────────────────┼───────────────┤\n",
              "│ dense (<span style=\"color: #0087ff; text-decoration-color: #0087ff\">Dense</span>)                   │ (<span style=\"color: #00d7ff; text-decoration-color: #00d7ff\">None</span>, <span style=\"color: #00af00; text-decoration-color: #00af00\">32</span>)             │        <span style=\"color: #00af00; text-decoration-color: #00af00\">25,120</span> │\n",
              "├─────────────────────────────────┼────────────────────────┼───────────────┤\n",
              "│ dense_1 (<span style=\"color: #0087ff; text-decoration-color: #0087ff\">Dense</span>)                 │ (<span style=\"color: #00d7ff; text-decoration-color: #00d7ff\">None</span>, <span style=\"color: #00af00; text-decoration-color: #00af00\">10</span>)             │           <span style=\"color: #00af00; text-decoration-color: #00af00\">330</span> │\n",
              "└─────────────────────────────────┴────────────────────────┴───────────────┘\n",
              "</pre>\n"
            ]
          },
          "metadata": {}
        },
        {
          "output_type": "display_data",
          "data": {
            "text/plain": [
              "\u001b[1m Total params: \u001b[0m\u001b[38;5;34m25,450\u001b[0m (99.41 KB)\n"
            ],
            "text/html": [
              "<pre style=\"white-space:pre;overflow-x:auto;line-height:normal;font-family:Menlo,'DejaVu Sans Mono',consolas,'Courier New',monospace\"><span style=\"font-weight: bold\"> Total params: </span><span style=\"color: #00af00; text-decoration-color: #00af00\">25,450</span> (99.41 KB)\n",
              "</pre>\n"
            ]
          },
          "metadata": {}
        },
        {
          "output_type": "display_data",
          "data": {
            "text/plain": [
              "\u001b[1m Trainable params: \u001b[0m\u001b[38;5;34m25,450\u001b[0m (99.41 KB)\n"
            ],
            "text/html": [
              "<pre style=\"white-space:pre;overflow-x:auto;line-height:normal;font-family:Menlo,'DejaVu Sans Mono',consolas,'Courier New',monospace\"><span style=\"font-weight: bold\"> Trainable params: </span><span style=\"color: #00af00; text-decoration-color: #00af00\">25,450</span> (99.41 KB)\n",
              "</pre>\n"
            ]
          },
          "metadata": {}
        },
        {
          "output_type": "display_data",
          "data": {
            "text/plain": [
              "\u001b[1m Non-trainable params: \u001b[0m\u001b[38;5;34m0\u001b[0m (0.00 B)\n"
            ],
            "text/html": [
              "<pre style=\"white-space:pre;overflow-x:auto;line-height:normal;font-family:Menlo,'DejaVu Sans Mono',consolas,'Courier New',monospace\"><span style=\"font-weight: bold\"> Non-trainable params: </span><span style=\"color: #00af00; text-decoration-color: #00af00\">0</span> (0.00 B)\n",
              "</pre>\n"
            ]
          },
          "metadata": {}
        }
      ]
    },
    {
      "cell_type": "code",
      "source": [
        "# Kompilasi model\n",
        "model.compile(\n",
        "    optimizer='sgd',                          # Optimizer SGD\n",
        "    loss='sparse_categorical_crossentropy',   # karena y_train masih berupa angka kelas (0–9)\n",
        "    metrics=['accuracy']                      # ukur performa dengan akurasi\n",
        ")\n",
        "\n",
        "# Eksperimen SGD_1 (batch size = 1)\n",
        "history_sgd1 = model.fit(\n",
        "    X_train, y_train,\n",
        "    epochs=50,\n",
        "    validation_split=0.2,\n",
        "    batch_size=1,\n",
        "    verbose=1\n",
        ")\n",
        "\n",
        "# Eksperimen SGD_32 (batch size = 32)\n",
        "history_sgd32 = model.fit(\n",
        "    X_train, y_train,\n",
        "    epochs=50,\n",
        "    validation_split=0.2,\n",
        "    batch_size=32,\n",
        "    verbose=1\n",
        ")\n",
        "\n",
        "# Eksperimen SGD_60k (batch size = 60000 → full batch)\n",
        "history_sgd60k = model.fit(\n",
        "    X_train, y_train,\n",
        "    epochs=50,\n",
        "    validation_split=0.2,\n",
        "    batch_size=60000,\n",
        "    verbose=1\n",
        ")\n"
      ],
      "metadata": {
        "colab": {
          "base_uri": "https://localhost:8080/"
        },
        "id": "oBLD3gsrtGuM",
        "outputId": "a1049f96-ae4c-4b20-8b8e-103648e3860d"
      },
      "execution_count": 11,
      "outputs": [
        {
          "output_type": "stream",
          "name": "stdout",
          "text": [
            "Epoch 1/50\n",
            "\u001b[1m48000/48000\u001b[0m \u001b[32m━━━━━━━━━━━━━━━━━━━━\u001b[0m\u001b[37m\u001b[0m \u001b[1m101s\u001b[0m 2ms/step - accuracy: 0.7576 - loss: 0.6722 - val_accuracy: 0.8407 - val_loss: 0.4483\n",
            "Epoch 2/50\n",
            "\u001b[1m48000/48000\u001b[0m \u001b[32m━━━━━━━━━━━━━━━━━━━━\u001b[0m\u001b[37m\u001b[0m \u001b[1m140s\u001b[0m 2ms/step - accuracy: 0.8383 - loss: 0.4449 - val_accuracy: 0.8388 - val_loss: 0.4691\n",
            "Epoch 3/50\n",
            "\u001b[1m48000/48000\u001b[0m \u001b[32m━━━━━━━━━━━━━━━━━━━━\u001b[0m\u001b[37m\u001b[0m \u001b[1m100s\u001b[0m 2ms/step - accuracy: 0.8531 - loss: 0.4050 - val_accuracy: 0.8395 - val_loss: 0.4600\n",
            "Epoch 4/50\n",
            "\u001b[1m48000/48000\u001b[0m \u001b[32m━━━━━━━━━━━━━━━━━━━━\u001b[0m\u001b[37m\u001b[0m \u001b[1m102s\u001b[0m 2ms/step - accuracy: 0.8632 - loss: 0.3746 - val_accuracy: 0.8568 - val_loss: 0.4215\n",
            "Epoch 5/50\n",
            "\u001b[1m48000/48000\u001b[0m \u001b[32m━━━━━━━━━━━━━━━━━━━━\u001b[0m\u001b[37m\u001b[0m \u001b[1m104s\u001b[0m 2ms/step - accuracy: 0.8686 - loss: 0.3634 - val_accuracy: 0.8602 - val_loss: 0.4108\n",
            "Epoch 6/50\n",
            "\u001b[1m48000/48000\u001b[0m \u001b[32m━━━━━━━━━━━━━━━━━━━━\u001b[0m\u001b[37m\u001b[0m \u001b[1m105s\u001b[0m 2ms/step - accuracy: 0.8738 - loss: 0.3459 - val_accuracy: 0.8702 - val_loss: 0.3756\n",
            "Epoch 7/50\n",
            "\u001b[1m48000/48000\u001b[0m \u001b[32m━━━━━━━━━━━━━━━━━━━━\u001b[0m\u001b[37m\u001b[0m \u001b[1m140s\u001b[0m 2ms/step - accuracy: 0.8764 - loss: 0.3436 - val_accuracy: 0.8737 - val_loss: 0.3607\n",
            "Epoch 8/50\n",
            "\u001b[1m48000/48000\u001b[0m \u001b[32m━━━━━━━━━━━━━━━━━━━━\u001b[0m\u001b[37m\u001b[0m \u001b[1m142s\u001b[0m 2ms/step - accuracy: 0.8763 - loss: 0.3417 - val_accuracy: 0.8608 - val_loss: 0.4147\n",
            "Epoch 9/50\n",
            "\u001b[1m48000/48000\u001b[0m \u001b[32m━━━━━━━━━━━━━━━━━━━━\u001b[0m\u001b[37m\u001b[0m \u001b[1m136s\u001b[0m 2ms/step - accuracy: 0.8774 - loss: 0.3318 - val_accuracy: 0.8317 - val_loss: 0.4606\n",
            "Epoch 10/50\n",
            "\u001b[1m48000/48000\u001b[0m \u001b[32m━━━━━━━━━━━━━━━━━━━━\u001b[0m\u001b[37m\u001b[0m \u001b[1m101s\u001b[0m 2ms/step - accuracy: 0.8761 - loss: 0.3332 - val_accuracy: 0.8658 - val_loss: 0.3918\n",
            "Epoch 11/50\n",
            "\u001b[1m48000/48000\u001b[0m \u001b[32m━━━━━━━━━━━━━━━━━━━━\u001b[0m\u001b[37m\u001b[0m \u001b[1m100s\u001b[0m 2ms/step - accuracy: 0.8834 - loss: 0.3141 - val_accuracy: 0.8408 - val_loss: 0.4629\n",
            "Epoch 12/50\n",
            "\u001b[1m48000/48000\u001b[0m \u001b[32m━━━━━━━━━━━━━━━━━━━━\u001b[0m\u001b[37m\u001b[0m \u001b[1m96s\u001b[0m 2ms/step - accuracy: 0.8842 - loss: 0.3159 - val_accuracy: 0.8611 - val_loss: 0.4091\n",
            "Epoch 13/50\n",
            "\u001b[1m48000/48000\u001b[0m \u001b[32m━━━━━━━━━━━━━━━━━━━━\u001b[0m\u001b[37m\u001b[0m \u001b[1m104s\u001b[0m 2ms/step - accuracy: 0.8864 - loss: 0.3115 - val_accuracy: 0.8594 - val_loss: 0.4154\n",
            "Epoch 14/50\n",
            "\u001b[1m48000/48000\u001b[0m \u001b[32m━━━━━━━━━━━━━━━━━━━━\u001b[0m\u001b[37m\u001b[0m \u001b[1m106s\u001b[0m 2ms/step - accuracy: 0.8899 - loss: 0.3041 - val_accuracy: 0.8705 - val_loss: 0.3802\n",
            "Epoch 15/50\n",
            "\u001b[1m48000/48000\u001b[0m \u001b[32m━━━━━━━━━━━━━━━━━━━━\u001b[0m\u001b[37m\u001b[0m \u001b[1m108s\u001b[0m 2ms/step - accuracy: 0.8886 - loss: 0.3042 - val_accuracy: 0.8734 - val_loss: 0.3938\n",
            "Epoch 16/50\n",
            "\u001b[1m48000/48000\u001b[0m \u001b[32m━━━━━━━━━━━━━━━━━━━━\u001b[0m\u001b[37m\u001b[0m \u001b[1m141s\u001b[0m 2ms/step - accuracy: 0.8918 - loss: 0.2947 - val_accuracy: 0.8688 - val_loss: 0.3898\n",
            "Epoch 17/50\n",
            "\u001b[1m48000/48000\u001b[0m \u001b[32m━━━━━━━━━━━━━━━━━━━━\u001b[0m\u001b[37m\u001b[0m \u001b[1m136s\u001b[0m 2ms/step - accuracy: 0.8879 - loss: 0.2977 - val_accuracy: 0.8688 - val_loss: 0.4081\n",
            "Epoch 18/50\n",
            "\u001b[1m48000/48000\u001b[0m \u001b[32m━━━━━━━━━━━━━━━━━━━━\u001b[0m\u001b[37m\u001b[0m \u001b[1m147s\u001b[0m 2ms/step - accuracy: 0.8890 - loss: 0.2940 - val_accuracy: 0.8650 - val_loss: 0.4182\n",
            "Epoch 19/50\n",
            "\u001b[1m48000/48000\u001b[0m \u001b[32m━━━━━━━━━━━━━━━━━━━━\u001b[0m\u001b[37m\u001b[0m \u001b[1m138s\u001b[0m 2ms/step - accuracy: 0.8914 - loss: 0.2918 - val_accuracy: 0.8661 - val_loss: 0.3953\n",
            "Epoch 20/50\n",
            "\u001b[1m48000/48000\u001b[0m \u001b[32m━━━━━━━━━━━━━━━━━━━━\u001b[0m\u001b[37m\u001b[0m \u001b[1m143s\u001b[0m 2ms/step - accuracy: 0.8936 - loss: 0.2871 - val_accuracy: 0.8714 - val_loss: 0.3866\n",
            "Epoch 21/50\n",
            "\u001b[1m48000/48000\u001b[0m \u001b[32m━━━━━━━━━━━━━━━━━━━━\u001b[0m\u001b[37m\u001b[0m \u001b[1m100s\u001b[0m 2ms/step - accuracy: 0.9000 - loss: 0.2773 - val_accuracy: 0.8723 - val_loss: 0.4080\n",
            "Epoch 22/50\n",
            "\u001b[1m48000/48000\u001b[0m \u001b[32m━━━━━━━━━━━━━━━━━━━━\u001b[0m\u001b[37m\u001b[0m \u001b[1m143s\u001b[0m 2ms/step - accuracy: 0.8949 - loss: 0.2842 - val_accuracy: 0.8698 - val_loss: 0.3783\n",
            "Epoch 23/50\n",
            "\u001b[1m48000/48000\u001b[0m \u001b[32m━━━━━━━━━━━━━━━━━━━━\u001b[0m\u001b[37m\u001b[0m \u001b[1m138s\u001b[0m 2ms/step - accuracy: 0.8947 - loss: 0.2771 - val_accuracy: 0.8648 - val_loss: 0.4292\n",
            "Epoch 24/50\n",
            "\u001b[1m48000/48000\u001b[0m \u001b[32m━━━━━━━━━━━━━━━━━━━━\u001b[0m\u001b[37m\u001b[0m \u001b[1m97s\u001b[0m 2ms/step - accuracy: 0.8987 - loss: 0.2704 - val_accuracy: 0.8729 - val_loss: 0.3916\n",
            "Epoch 25/50\n",
            "\u001b[1m48000/48000\u001b[0m \u001b[32m━━━━━━━━━━━━━━━━━━━━\u001b[0m\u001b[37m\u001b[0m \u001b[1m141s\u001b[0m 2ms/step - accuracy: 0.9006 - loss: 0.2636 - val_accuracy: 0.8742 - val_loss: 0.3873\n",
            "Epoch 26/50\n",
            "\u001b[1m48000/48000\u001b[0m \u001b[32m━━━━━━━━━━━━━━━━━━━━\u001b[0m\u001b[37m\u001b[0m \u001b[1m96s\u001b[0m 2ms/step - accuracy: 0.8999 - loss: 0.2668 - val_accuracy: 0.8668 - val_loss: 0.4069\n",
            "Epoch 27/50\n",
            "\u001b[1m48000/48000\u001b[0m \u001b[32m━━━━━━━━━━━━━━━━━━━━\u001b[0m\u001b[37m\u001b[0m \u001b[1m97s\u001b[0m 2ms/step - accuracy: 0.8996 - loss: 0.2694 - val_accuracy: 0.8751 - val_loss: 0.4135\n",
            "Epoch 28/50\n",
            "\u001b[1m48000/48000\u001b[0m \u001b[32m━━━━━━━━━━━━━━━━━━━━\u001b[0m\u001b[37m\u001b[0m \u001b[1m140s\u001b[0m 2ms/step - accuracy: 0.9036 - loss: 0.2616 - val_accuracy: 0.8717 - val_loss: 0.4122\n",
            "Epoch 29/50\n",
            "\u001b[1m48000/48000\u001b[0m \u001b[32m━━━━━━━━━━━━━━━━━━━━\u001b[0m\u001b[37m\u001b[0m \u001b[1m102s\u001b[0m 2ms/step - accuracy: 0.9044 - loss: 0.2555 - val_accuracy: 0.8633 - val_loss: 0.4493\n",
            "Epoch 30/50\n",
            "\u001b[1m48000/48000\u001b[0m \u001b[32m━━━━━━━━━━━━━━━━━━━━\u001b[0m\u001b[37m\u001b[0m \u001b[1m104s\u001b[0m 2ms/step - accuracy: 0.9022 - loss: 0.2628 - val_accuracy: 0.8634 - val_loss: 0.4375\n",
            "Epoch 31/50\n",
            "\u001b[1m48000/48000\u001b[0m \u001b[32m━━━━━━━━━━━━━━━━━━━━\u001b[0m\u001b[37m\u001b[0m \u001b[1m141s\u001b[0m 2ms/step - accuracy: 0.9047 - loss: 0.2585 - val_accuracy: 0.8667 - val_loss: 0.4132\n",
            "Epoch 32/50\n",
            "\u001b[1m48000/48000\u001b[0m \u001b[32m━━━━━━━━━━━━━━━━━━━━\u001b[0m\u001b[37m\u001b[0m \u001b[1m104s\u001b[0m 2ms/step - accuracy: 0.9011 - loss: 0.2605 - val_accuracy: 0.8741 - val_loss: 0.4052\n",
            "Epoch 33/50\n",
            "\u001b[1m48000/48000\u001b[0m \u001b[32m━━━━━━━━━━━━━━━━━━━━\u001b[0m\u001b[37m\u001b[0m \u001b[1m99s\u001b[0m 2ms/step - accuracy: 0.9035 - loss: 0.2545 - val_accuracy: 0.8698 - val_loss: 0.4074\n",
            "Epoch 34/50\n",
            "\u001b[1m48000/48000\u001b[0m \u001b[32m━━━━━━━━━━━━━━━━━━━━\u001b[0m\u001b[37m\u001b[0m \u001b[1m98s\u001b[0m 2ms/step - accuracy: 0.9046 - loss: 0.2515 - val_accuracy: 0.8580 - val_loss: 0.4657\n",
            "Epoch 35/50\n",
            "\u001b[1m48000/48000\u001b[0m \u001b[32m━━━━━━━━━━━━━━━━━━━━\u001b[0m\u001b[37m\u001b[0m \u001b[1m100s\u001b[0m 2ms/step - accuracy: 0.9052 - loss: 0.2497 - val_accuracy: 0.8717 - val_loss: 0.4348\n",
            "Epoch 36/50\n",
            "\u001b[1m48000/48000\u001b[0m \u001b[32m━━━━━━━━━━━━━━━━━━━━\u001b[0m\u001b[37m\u001b[0m \u001b[1m144s\u001b[0m 2ms/step - accuracy: 0.9077 - loss: 0.2455 - val_accuracy: 0.8632 - val_loss: 0.4314\n",
            "Epoch 37/50\n",
            "\u001b[1m48000/48000\u001b[0m \u001b[32m━━━━━━━━━━━━━━━━━━━━\u001b[0m\u001b[37m\u001b[0m \u001b[1m93s\u001b[0m 2ms/step - accuracy: 0.9056 - loss: 0.2478 - val_accuracy: 0.8636 - val_loss: 0.4438\n",
            "Epoch 38/50\n",
            "\u001b[1m48000/48000\u001b[0m \u001b[32m━━━━━━━━━━━━━━━━━━━━\u001b[0m\u001b[37m\u001b[0m \u001b[1m98s\u001b[0m 2ms/step - accuracy: 0.9058 - loss: 0.2492 - val_accuracy: 0.8666 - val_loss: 0.4552\n",
            "Epoch 39/50\n",
            "\u001b[1m48000/48000\u001b[0m \u001b[32m━━━━━━━━━━━━━━━━━━━━\u001b[0m\u001b[37m\u001b[0m \u001b[1m146s\u001b[0m 2ms/step - accuracy: 0.9072 - loss: 0.2470 - val_accuracy: 0.8725 - val_loss: 0.4151\n",
            "Epoch 40/50\n",
            "\u001b[1m48000/48000\u001b[0m \u001b[32m━━━━━━━━━━━━━━━━━━━━\u001b[0m\u001b[37m\u001b[0m \u001b[1m143s\u001b[0m 2ms/step - accuracy: 0.9086 - loss: 0.2418 - val_accuracy: 0.8717 - val_loss: 0.4199\n",
            "Epoch 41/50\n",
            "\u001b[1m48000/48000\u001b[0m \u001b[32m━━━━━━━━━━━━━━━━━━━━\u001b[0m\u001b[37m\u001b[0m \u001b[1m142s\u001b[0m 2ms/step - accuracy: 0.9093 - loss: 0.2410 - val_accuracy: 0.8741 - val_loss: 0.4152\n",
            "Epoch 42/50\n",
            "\u001b[1m48000/48000\u001b[0m \u001b[32m━━━━━━━━━━━━━━━━━━━━\u001b[0m\u001b[37m\u001b[0m \u001b[1m99s\u001b[0m 2ms/step - accuracy: 0.9095 - loss: 0.2386 - val_accuracy: 0.8720 - val_loss: 0.4181\n",
            "Epoch 43/50\n",
            "\u001b[1m48000/48000\u001b[0m \u001b[32m━━━━━━━━━━━━━━━━━━━━\u001b[0m\u001b[37m\u001b[0m \u001b[1m143s\u001b[0m 2ms/step - accuracy: 0.9078 - loss: 0.2447 - val_accuracy: 0.8727 - val_loss: 0.4285\n",
            "Epoch 44/50\n",
            "\u001b[1m48000/48000\u001b[0m \u001b[32m━━━━━━━━━━━━━━━━━━━━\u001b[0m\u001b[37m\u001b[0m \u001b[1m100s\u001b[0m 2ms/step - accuracy: 0.9099 - loss: 0.2366 - val_accuracy: 0.8677 - val_loss: 0.4348\n",
            "Epoch 45/50\n",
            "\u001b[1m48000/48000\u001b[0m \u001b[32m━━━━━━━━━━━━━━━━━━━━\u001b[0m\u001b[37m\u001b[0m \u001b[1m139s\u001b[0m 2ms/step - accuracy: 0.9129 - loss: 0.2363 - val_accuracy: 0.8624 - val_loss: 0.4757\n",
            "Epoch 46/50\n",
            "\u001b[1m48000/48000\u001b[0m \u001b[32m━━━━━━━━━━━━━━━━━━━━\u001b[0m\u001b[37m\u001b[0m \u001b[1m103s\u001b[0m 2ms/step - accuracy: 0.9136 - loss: 0.2310 - val_accuracy: 0.8725 - val_loss: 0.4390\n",
            "Epoch 47/50\n",
            "\u001b[1m48000/48000\u001b[0m \u001b[32m━━━━━━━━━━━━━━━━━━━━\u001b[0m\u001b[37m\u001b[0m \u001b[1m136s\u001b[0m 2ms/step - accuracy: 0.9105 - loss: 0.2365 - val_accuracy: 0.8689 - val_loss: 0.4396\n",
            "Epoch 48/50\n",
            "\u001b[1m48000/48000\u001b[0m \u001b[32m━━━━━━━━━━━━━━━━━━━━\u001b[0m\u001b[37m\u001b[0m \u001b[1m139s\u001b[0m 2ms/step - accuracy: 0.9143 - loss: 0.2289 - val_accuracy: 0.8668 - val_loss: 0.4748\n",
            "Epoch 49/50\n",
            "\u001b[1m48000/48000\u001b[0m \u001b[32m━━━━━━━━━━━━━━━━━━━━\u001b[0m\u001b[37m\u001b[0m \u001b[1m151s\u001b[0m 2ms/step - accuracy: 0.9139 - loss: 0.2310 - val_accuracy: 0.8701 - val_loss: 0.4802\n",
            "Epoch 50/50\n",
            "\u001b[1m48000/48000\u001b[0m \u001b[32m━━━━━━━━━━━━━━━━━━━━\u001b[0m\u001b[37m\u001b[0m \u001b[1m134s\u001b[0m 2ms/step - accuracy: 0.9136 - loss: 0.2289 - val_accuracy: 0.8622 - val_loss: 0.4582\n",
            "Epoch 1/50\n",
            "\u001b[1m1500/1500\u001b[0m \u001b[32m━━━━━━━━━━━━━━━━━━━━\u001b[0m\u001b[37m\u001b[0m \u001b[1m5s\u001b[0m 3ms/step - accuracy: 0.9311 - loss: 0.1878 - val_accuracy: 0.8782 - val_loss: 0.4240\n",
            "Epoch 2/50\n",
            "\u001b[1m1500/1500\u001b[0m \u001b[32m━━━━━━━━━━━━━━━━━━━━\u001b[0m\u001b[37m\u001b[0m \u001b[1m3s\u001b[0m 2ms/step - accuracy: 0.9335 - loss: 0.1775 - val_accuracy: 0.8778 - val_loss: 0.4248\n",
            "Epoch 3/50\n",
            "\u001b[1m1500/1500\u001b[0m \u001b[32m━━━━━━━━━━━━━━━━━━━━\u001b[0m\u001b[37m\u001b[0m \u001b[1m3s\u001b[0m 2ms/step - accuracy: 0.9354 - loss: 0.1747 - val_accuracy: 0.8796 - val_loss: 0.4259\n",
            "Epoch 4/50\n",
            "\u001b[1m1500/1500\u001b[0m \u001b[32m━━━━━━━━━━━━━━━━━━━━\u001b[0m\u001b[37m\u001b[0m \u001b[1m6s\u001b[0m 3ms/step - accuracy: 0.9364 - loss: 0.1729 - val_accuracy: 0.8787 - val_loss: 0.4249\n",
            "Epoch 5/50\n",
            "\u001b[1m1500/1500\u001b[0m \u001b[32m━━━━━━━━━━━━━━━━━━━━\u001b[0m\u001b[37m\u001b[0m \u001b[1m5s\u001b[0m 2ms/step - accuracy: 0.9332 - loss: 0.1751 - val_accuracy: 0.8782 - val_loss: 0.4252\n",
            "Epoch 6/50\n",
            "\u001b[1m1500/1500\u001b[0m \u001b[32m━━━━━━━━━━━━━━━━━━━━\u001b[0m\u001b[37m\u001b[0m \u001b[1m6s\u001b[0m 3ms/step - accuracy: 0.9359 - loss: 0.1717 - val_accuracy: 0.8779 - val_loss: 0.4248\n",
            "Epoch 7/50\n",
            "\u001b[1m1500/1500\u001b[0m \u001b[32m━━━━━━━━━━━━━━━━━━━━\u001b[0m\u001b[37m\u001b[0m \u001b[1m3s\u001b[0m 2ms/step - accuracy: 0.9374 - loss: 0.1712 - val_accuracy: 0.8776 - val_loss: 0.4254\n",
            "Epoch 8/50\n",
            "\u001b[1m1500/1500\u001b[0m \u001b[32m━━━━━━━━━━━━━━━━━━━━\u001b[0m\u001b[37m\u001b[0m \u001b[1m5s\u001b[0m 2ms/step - accuracy: 0.9371 - loss: 0.1713 - val_accuracy: 0.8783 - val_loss: 0.4270\n",
            "Epoch 9/50\n",
            "\u001b[1m1500/1500\u001b[0m \u001b[32m━━━━━━━━━━━━━━━━━━━━\u001b[0m\u001b[37m\u001b[0m \u001b[1m5s\u001b[0m 2ms/step - accuracy: 0.9339 - loss: 0.1747 - val_accuracy: 0.8790 - val_loss: 0.4251\n",
            "Epoch 10/50\n",
            "\u001b[1m1500/1500\u001b[0m \u001b[32m━━━━━━━━━━━━━━━━━━━━\u001b[0m\u001b[37m\u001b[0m \u001b[1m5s\u001b[0m 2ms/step - accuracy: 0.9354 - loss: 0.1716 - val_accuracy: 0.8787 - val_loss: 0.4272\n",
            "Epoch 11/50\n",
            "\u001b[1m1500/1500\u001b[0m \u001b[32m━━━━━━━━━━━━━━━━━━━━\u001b[0m\u001b[37m\u001b[0m \u001b[1m4s\u001b[0m 3ms/step - accuracy: 0.9371 - loss: 0.1664 - val_accuracy: 0.8783 - val_loss: 0.4273\n",
            "Epoch 12/50\n",
            "\u001b[1m1500/1500\u001b[0m \u001b[32m━━━━━━━━━━━━━━━━━━━━\u001b[0m\u001b[37m\u001b[0m \u001b[1m4s\u001b[0m 2ms/step - accuracy: 0.9349 - loss: 0.1741 - val_accuracy: 0.8783 - val_loss: 0.4283\n",
            "Epoch 13/50\n",
            "\u001b[1m1500/1500\u001b[0m \u001b[32m━━━━━━━━━━━━━━━━━━━━\u001b[0m\u001b[37m\u001b[0m \u001b[1m5s\u001b[0m 2ms/step - accuracy: 0.9357 - loss: 0.1726 - val_accuracy: 0.8781 - val_loss: 0.4279\n",
            "Epoch 14/50\n",
            "\u001b[1m1500/1500\u001b[0m \u001b[32m━━━━━━━━━━━━━━━━━━━━\u001b[0m\u001b[37m\u001b[0m \u001b[1m6s\u001b[0m 2ms/step - accuracy: 0.9365 - loss: 0.1684 - val_accuracy: 0.8781 - val_loss: 0.4283\n",
            "Epoch 15/50\n",
            "\u001b[1m1500/1500\u001b[0m \u001b[32m━━━━━━━━━━━━━━━━━━━━\u001b[0m\u001b[37m\u001b[0m \u001b[1m5s\u001b[0m 2ms/step - accuracy: 0.9350 - loss: 0.1739 - val_accuracy: 0.8773 - val_loss: 0.4278\n",
            "Epoch 16/50\n",
            "\u001b[1m1500/1500\u001b[0m \u001b[32m━━━━━━━━━━━━━━━━━━━━\u001b[0m\u001b[37m\u001b[0m \u001b[1m6s\u001b[0m 3ms/step - accuracy: 0.9361 - loss: 0.1692 - val_accuracy: 0.8784 - val_loss: 0.4285\n",
            "Epoch 17/50\n",
            "\u001b[1m1500/1500\u001b[0m \u001b[32m━━━━━━━━━━━━━━━━━━━━\u001b[0m\u001b[37m\u001b[0m \u001b[1m4s\u001b[0m 2ms/step - accuracy: 0.9367 - loss: 0.1718 - val_accuracy: 0.8788 - val_loss: 0.4291\n",
            "Epoch 18/50\n",
            "\u001b[1m1500/1500\u001b[0m \u001b[32m━━━━━━━━━━━━━━━━━━━━\u001b[0m\u001b[37m\u001b[0m \u001b[1m3s\u001b[0m 2ms/step - accuracy: 0.9366 - loss: 0.1686 - val_accuracy: 0.8783 - val_loss: 0.4301\n",
            "Epoch 19/50\n",
            "\u001b[1m1500/1500\u001b[0m \u001b[32m━━━━━━━━━━━━━━━━━━━━\u001b[0m\u001b[37m\u001b[0m \u001b[1m6s\u001b[0m 3ms/step - accuracy: 0.9370 - loss: 0.1675 - val_accuracy: 0.8773 - val_loss: 0.4291\n",
            "Epoch 20/50\n",
            "\u001b[1m1500/1500\u001b[0m \u001b[32m━━━━━━━━━━━━━━━━━━━━\u001b[0m\u001b[37m\u001b[0m \u001b[1m4s\u001b[0m 2ms/step - accuracy: 0.9378 - loss: 0.1659 - val_accuracy: 0.8784 - val_loss: 0.4294\n",
            "Epoch 21/50\n",
            "\u001b[1m1500/1500\u001b[0m \u001b[32m━━━━━━━━━━━━━━━━━━━━\u001b[0m\u001b[37m\u001b[0m \u001b[1m6s\u001b[0m 3ms/step - accuracy: 0.9364 - loss: 0.1695 - val_accuracy: 0.8767 - val_loss: 0.4306\n",
            "Epoch 22/50\n",
            "\u001b[1m1500/1500\u001b[0m \u001b[32m━━━━━━━━━━━━━━━━━━━━\u001b[0m\u001b[37m\u001b[0m \u001b[1m4s\u001b[0m 2ms/step - accuracy: 0.9382 - loss: 0.1661 - val_accuracy: 0.8782 - val_loss: 0.4300\n",
            "Epoch 23/50\n",
            "\u001b[1m1500/1500\u001b[0m \u001b[32m━━━━━━━━━━━━━━━━━━━━\u001b[0m\u001b[37m\u001b[0m \u001b[1m5s\u001b[0m 2ms/step - accuracy: 0.9365 - loss: 0.1738 - val_accuracy: 0.8773 - val_loss: 0.4304\n",
            "Epoch 24/50\n",
            "\u001b[1m1500/1500\u001b[0m \u001b[32m━━━━━━━━━━━━━━━━━━━━\u001b[0m\u001b[37m\u001b[0m \u001b[1m4s\u001b[0m 3ms/step - accuracy: 0.9365 - loss: 0.1692 - val_accuracy: 0.8775 - val_loss: 0.4299\n",
            "Epoch 25/50\n",
            "\u001b[1m1500/1500\u001b[0m \u001b[32m━━━━━━━━━━━━━━━━━━━━\u001b[0m\u001b[37m\u001b[0m \u001b[1m3s\u001b[0m 2ms/step - accuracy: 0.9371 - loss: 0.1664 - val_accuracy: 0.8778 - val_loss: 0.4310\n",
            "Epoch 26/50\n",
            "\u001b[1m1500/1500\u001b[0m \u001b[32m━━━━━━━━━━━━━━━━━━━━\u001b[0m\u001b[37m\u001b[0m \u001b[1m3s\u001b[0m 2ms/step - accuracy: 0.9375 - loss: 0.1682 - val_accuracy: 0.8777 - val_loss: 0.4306\n",
            "Epoch 27/50\n",
            "\u001b[1m1500/1500\u001b[0m \u001b[32m━━━━━━━━━━━━━━━━━━━━\u001b[0m\u001b[37m\u001b[0m \u001b[1m3s\u001b[0m 2ms/step - accuracy: 0.9378 - loss: 0.1682 - val_accuracy: 0.8767 - val_loss: 0.4318\n",
            "Epoch 28/50\n",
            "\u001b[1m1500/1500\u001b[0m \u001b[32m━━━━━━━━━━━━━━━━━━━━\u001b[0m\u001b[37m\u001b[0m \u001b[1m5s\u001b[0m 2ms/step - accuracy: 0.9352 - loss: 0.1718 - val_accuracy: 0.8782 - val_loss: 0.4315\n",
            "Epoch 29/50\n",
            "\u001b[1m1500/1500\u001b[0m \u001b[32m━━━━━━━━━━━━━━━━━━━━\u001b[0m\u001b[37m\u001b[0m \u001b[1m3s\u001b[0m 2ms/step - accuracy: 0.9379 - loss: 0.1683 - val_accuracy: 0.8792 - val_loss: 0.4319\n",
            "Epoch 30/50\n",
            "\u001b[1m1500/1500\u001b[0m \u001b[32m━━━━━━━━━━━━━━━━━━━━\u001b[0m\u001b[37m\u001b[0m \u001b[1m3s\u001b[0m 2ms/step - accuracy: 0.9357 - loss: 0.1732 - val_accuracy: 0.8782 - val_loss: 0.4338\n",
            "Epoch 31/50\n",
            "\u001b[1m1500/1500\u001b[0m \u001b[32m━━━━━━━━━━━━━━━━━━━━\u001b[0m\u001b[37m\u001b[0m \u001b[1m5s\u001b[0m 2ms/step - accuracy: 0.9381 - loss: 0.1659 - val_accuracy: 0.8788 - val_loss: 0.4329\n",
            "Epoch 32/50\n",
            "\u001b[1m1500/1500\u001b[0m \u001b[32m━━━━━━━━━━━━━━━━━━━━\u001b[0m\u001b[37m\u001b[0m \u001b[1m3s\u001b[0m 2ms/step - accuracy: 0.9356 - loss: 0.1709 - val_accuracy: 0.8775 - val_loss: 0.4338\n",
            "Epoch 33/50\n",
            "\u001b[1m1500/1500\u001b[0m \u001b[32m━━━━━━━━━━━━━━━━━━━━\u001b[0m\u001b[37m\u001b[0m \u001b[1m3s\u001b[0m 2ms/step - accuracy: 0.9377 - loss: 0.1659 - val_accuracy: 0.8774 - val_loss: 0.4331\n",
            "Epoch 34/50\n",
            "\u001b[1m1500/1500\u001b[0m \u001b[32m━━━━━━━━━━━━━━━━━━━━\u001b[0m\u001b[37m\u001b[0m \u001b[1m4s\u001b[0m 3ms/step - accuracy: 0.9367 - loss: 0.1675 - val_accuracy: 0.8768 - val_loss: 0.4341\n",
            "Epoch 35/50\n",
            "\u001b[1m1500/1500\u001b[0m \u001b[32m━━━━━━━━━━━━━━━━━━━━\u001b[0m\u001b[37m\u001b[0m \u001b[1m3s\u001b[0m 2ms/step - accuracy: 0.9364 - loss: 0.1707 - val_accuracy: 0.8778 - val_loss: 0.4366\n",
            "Epoch 36/50\n",
            "\u001b[1m1500/1500\u001b[0m \u001b[32m━━━━━━━━━━━━━━━━━━━━\u001b[0m\u001b[37m\u001b[0m \u001b[1m5s\u001b[0m 2ms/step - accuracy: 0.9363 - loss: 0.1681 - val_accuracy: 0.8789 - val_loss: 0.4347\n",
            "Epoch 37/50\n",
            "\u001b[1m1500/1500\u001b[0m \u001b[32m━━━━━━━━━━━━━━━━━━━━\u001b[0m\u001b[37m\u001b[0m \u001b[1m4s\u001b[0m 3ms/step - accuracy: 0.9378 - loss: 0.1664 - val_accuracy: 0.8770 - val_loss: 0.4340\n",
            "Epoch 38/50\n",
            "\u001b[1m1500/1500\u001b[0m \u001b[32m━━━━━━━━━━━━━━━━━━━━\u001b[0m\u001b[37m\u001b[0m \u001b[1m3s\u001b[0m 2ms/step - accuracy: 0.9381 - loss: 0.1658 - val_accuracy: 0.8768 - val_loss: 0.4350\n",
            "Epoch 39/50\n",
            "\u001b[1m1500/1500\u001b[0m \u001b[32m━━━━━━━━━━━━━━━━━━━━\u001b[0m\u001b[37m\u001b[0m \u001b[1m3s\u001b[0m 2ms/step - accuracy: 0.9382 - loss: 0.1660 - val_accuracy: 0.8770 - val_loss: 0.4364\n",
            "Epoch 40/50\n",
            "\u001b[1m1500/1500\u001b[0m \u001b[32m━━━━━━━━━━━━━━━━━━━━\u001b[0m\u001b[37m\u001b[0m \u001b[1m4s\u001b[0m 3ms/step - accuracy: 0.9366 - loss: 0.1665 - val_accuracy: 0.8782 - val_loss: 0.4353\n",
            "Epoch 41/50\n",
            "\u001b[1m1500/1500\u001b[0m \u001b[32m━━━━━━━━━━━━━━━━━━━━\u001b[0m\u001b[37m\u001b[0m \u001b[1m3s\u001b[0m 2ms/step - accuracy: 0.9371 - loss: 0.1676 - val_accuracy: 0.8775 - val_loss: 0.4359\n",
            "Epoch 42/50\n",
            "\u001b[1m1500/1500\u001b[0m \u001b[32m━━━━━━━━━━━━━━━━━━━━\u001b[0m\u001b[37m\u001b[0m \u001b[1m3s\u001b[0m 2ms/step - accuracy: 0.9379 - loss: 0.1673 - val_accuracy: 0.8776 - val_loss: 0.4353\n",
            "Epoch 43/50\n",
            "\u001b[1m1500/1500\u001b[0m \u001b[32m━━━━━━━━━━━━━━━━━━━━\u001b[0m\u001b[37m\u001b[0m \u001b[1m3s\u001b[0m 2ms/step - accuracy: 0.9348 - loss: 0.1726 - val_accuracy: 0.8767 - val_loss: 0.4382\n",
            "Epoch 44/50\n",
            "\u001b[1m1500/1500\u001b[0m \u001b[32m━━━━━━━━━━━━━━━━━━━━\u001b[0m\u001b[37m\u001b[0m \u001b[1m5s\u001b[0m 2ms/step - accuracy: 0.9404 - loss: 0.1641 - val_accuracy: 0.8763 - val_loss: 0.4367\n",
            "Epoch 45/50\n",
            "\u001b[1m1500/1500\u001b[0m \u001b[32m━━━━━━━━━━━━━━━━━━━━\u001b[0m\u001b[37m\u001b[0m \u001b[1m5s\u001b[0m 2ms/step - accuracy: 0.9394 - loss: 0.1621 - val_accuracy: 0.8775 - val_loss: 0.4379\n",
            "Epoch 46/50\n",
            "\u001b[1m1500/1500\u001b[0m \u001b[32m━━━━━━━━━━━━━━━━━━━━\u001b[0m\u001b[37m\u001b[0m \u001b[1m6s\u001b[0m 3ms/step - accuracy: 0.9375 - loss: 0.1658 - val_accuracy: 0.8780 - val_loss: 0.4366\n",
            "Epoch 47/50\n",
            "\u001b[1m1500/1500\u001b[0m \u001b[32m━━━━━━━━━━━━━━━━━━━━\u001b[0m\u001b[37m\u001b[0m \u001b[1m4s\u001b[0m 2ms/step - accuracy: 0.9393 - loss: 0.1616 - val_accuracy: 0.8767 - val_loss: 0.4375\n",
            "Epoch 48/50\n",
            "\u001b[1m1500/1500\u001b[0m \u001b[32m━━━━━━━━━━━━━━━━━━━━\u001b[0m\u001b[37m\u001b[0m \u001b[1m7s\u001b[0m 3ms/step - accuracy: 0.9392 - loss: 0.1635 - val_accuracy: 0.8769 - val_loss: 0.4375\n",
            "Epoch 49/50\n",
            "\u001b[1m1500/1500\u001b[0m \u001b[32m━━━━━━━━━━━━━━━━━━━━\u001b[0m\u001b[37m\u001b[0m \u001b[1m3s\u001b[0m 2ms/step - accuracy: 0.9390 - loss: 0.1638 - val_accuracy: 0.8777 - val_loss: 0.4376\n",
            "Epoch 50/50\n",
            "\u001b[1m1500/1500\u001b[0m \u001b[32m━━━━━━━━━━━━━━━━━━━━\u001b[0m\u001b[37m\u001b[0m \u001b[1m5s\u001b[0m 2ms/step - accuracy: 0.9380 - loss: 0.1658 - val_accuracy: 0.8771 - val_loss: 0.4384\n",
            "Epoch 1/50\n",
            "\u001b[1m1/1\u001b[0m \u001b[32m━━━━━━━━━━━━━━━━━━━━\u001b[0m\u001b[37m\u001b[0m \u001b[1m1s\u001b[0m 577ms/step - accuracy: 0.9391 - loss: 0.1638 - val_accuracy: 0.8771 - val_loss: 0.4384\n",
            "Epoch 2/50\n",
            "\u001b[1m1/1\u001b[0m \u001b[32m━━━━━━━━━━━━━━━━━━━━\u001b[0m\u001b[37m\u001b[0m \u001b[1m1s\u001b[0m 581ms/step - accuracy: 0.9391 - loss: 0.1638 - val_accuracy: 0.8772 - val_loss: 0.4384\n",
            "Epoch 3/50\n",
            "\u001b[1m1/1\u001b[0m \u001b[32m━━━━━━━━━━━━━━━━━━━━\u001b[0m\u001b[37m\u001b[0m \u001b[1m1s\u001b[0m 651ms/step - accuracy: 0.9391 - loss: 0.1637 - val_accuracy: 0.8773 - val_loss: 0.4384\n",
            "Epoch 4/50\n",
            "\u001b[1m1/1\u001b[0m \u001b[32m━━━━━━━━━━━━━━━━━━━━\u001b[0m\u001b[37m\u001b[0m \u001b[1m1s\u001b[0m 639ms/step - accuracy: 0.9390 - loss: 0.1637 - val_accuracy: 0.8773 - val_loss: 0.4384\n",
            "Epoch 5/50\n",
            "\u001b[1m1/1\u001b[0m \u001b[32m━━━━━━━━━━━━━━━━━━━━\u001b[0m\u001b[37m\u001b[0m \u001b[1m1s\u001b[0m 577ms/step - accuracy: 0.9390 - loss: 0.1637 - val_accuracy: 0.8773 - val_loss: 0.4384\n",
            "Epoch 6/50\n",
            "\u001b[1m1/1\u001b[0m \u001b[32m━━━━━━━━━━━━━━━━━━━━\u001b[0m\u001b[37m\u001b[0m \u001b[1m0s\u001b[0m 449ms/step - accuracy: 0.9390 - loss: 0.1637 - val_accuracy: 0.8773 - val_loss: 0.4384\n",
            "Epoch 7/50\n",
            "\u001b[1m1/1\u001b[0m \u001b[32m━━━━━━━━━━━━━━━━━━━━\u001b[0m\u001b[37m\u001b[0m \u001b[1m1s\u001b[0m 607ms/step - accuracy: 0.9391 - loss: 0.1637 - val_accuracy: 0.8773 - val_loss: 0.4384\n",
            "Epoch 8/50\n",
            "\u001b[1m1/1\u001b[0m \u001b[32m━━━━━━━━━━━━━━━━━━━━\u001b[0m\u001b[37m\u001b[0m \u001b[1m0s\u001b[0m 402ms/step - accuracy: 0.9390 - loss: 0.1637 - val_accuracy: 0.8773 - val_loss: 0.4384\n",
            "Epoch 9/50\n",
            "\u001b[1m1/1\u001b[0m \u001b[32m━━━━━━━━━━━━━━━━━━━━\u001b[0m\u001b[37m\u001b[0m \u001b[1m0s\u001b[0m 462ms/step - accuracy: 0.9390 - loss: 0.1637 - val_accuracy: 0.8773 - val_loss: 0.4384\n",
            "Epoch 10/50\n",
            "\u001b[1m1/1\u001b[0m \u001b[32m━━━━━━━━━━━━━━━━━━━━\u001b[0m\u001b[37m\u001b[0m \u001b[1m0s\u001b[0m 377ms/step - accuracy: 0.9390 - loss: 0.1637 - val_accuracy: 0.8773 - val_loss: 0.4384\n",
            "Epoch 11/50\n",
            "\u001b[1m1/1\u001b[0m \u001b[32m━━━━━━━━━━━━━━━━━━━━\u001b[0m\u001b[37m\u001b[0m \u001b[1m1s\u001b[0m 622ms/step - accuracy: 0.9390 - loss: 0.1637 - val_accuracy: 0.8773 - val_loss: 0.4384\n",
            "Epoch 12/50\n",
            "\u001b[1m1/1\u001b[0m \u001b[32m━━━━━━━━━━━━━━━━━━━━\u001b[0m\u001b[37m\u001b[0m \u001b[1m0s\u001b[0m 382ms/step - accuracy: 0.9390 - loss: 0.1637 - val_accuracy: 0.8773 - val_loss: 0.4384\n",
            "Epoch 13/50\n",
            "\u001b[1m1/1\u001b[0m \u001b[32m━━━━━━━━━━━━━━━━━━━━\u001b[0m\u001b[37m\u001b[0m \u001b[1m0s\u001b[0m 392ms/step - accuracy: 0.9390 - loss: 0.1636 - val_accuracy: 0.8773 - val_loss: 0.4384\n",
            "Epoch 14/50\n",
            "\u001b[1m1/1\u001b[0m \u001b[32m━━━━━━━━━━━━━━━━━━━━\u001b[0m\u001b[37m\u001b[0m \u001b[1m1s\u001b[0m 603ms/step - accuracy: 0.9390 - loss: 0.1636 - val_accuracy: 0.8773 - val_loss: 0.4384\n",
            "Epoch 15/50\n",
            "\u001b[1m1/1\u001b[0m \u001b[32m━━━━━━━━━━━━━━━━━━━━\u001b[0m\u001b[37m\u001b[0m \u001b[1m1s\u001b[0m 624ms/step - accuracy: 0.9390 - loss: 0.1636 - val_accuracy: 0.8773 - val_loss: 0.4384\n",
            "Epoch 16/50\n",
            "\u001b[1m1/1\u001b[0m \u001b[32m━━━━━━━━━━━━━━━━━━━━\u001b[0m\u001b[37m\u001b[0m \u001b[1m1s\u001b[0m 637ms/step - accuracy: 0.9390 - loss: 0.1636 - val_accuracy: 0.8772 - val_loss: 0.4384\n",
            "Epoch 17/50\n",
            "\u001b[1m1/1\u001b[0m \u001b[32m━━━━━━━━━━━━━━━━━━━━\u001b[0m\u001b[37m\u001b[0m \u001b[1m0s\u001b[0m 379ms/step - accuracy: 0.9390 - loss: 0.1636 - val_accuracy: 0.8772 - val_loss: 0.4384\n",
            "Epoch 18/50\n",
            "\u001b[1m1/1\u001b[0m \u001b[32m━━━━━━━━━━━━━━━━━━━━\u001b[0m\u001b[37m\u001b[0m \u001b[1m0s\u001b[0m 382ms/step - accuracy: 0.9390 - loss: 0.1636 - val_accuracy: 0.8773 - val_loss: 0.4384\n",
            "Epoch 19/50\n",
            "\u001b[1m1/1\u001b[0m \u001b[32m━━━━━━━━━━━━━━━━━━━━\u001b[0m\u001b[37m\u001b[0m \u001b[1m0s\u001b[0m 387ms/step - accuracy: 0.9391 - loss: 0.1636 - val_accuracy: 0.8773 - val_loss: 0.4383\n",
            "Epoch 20/50\n",
            "\u001b[1m1/1\u001b[0m \u001b[32m━━━━━━━━━━━━━━━━━━━━\u001b[0m\u001b[37m\u001b[0m \u001b[1m1s\u001b[0m 609ms/step - accuracy: 0.9391 - loss: 0.1636 - val_accuracy: 0.8773 - val_loss: 0.4383\n",
            "Epoch 21/50\n",
            "\u001b[1m1/1\u001b[0m \u001b[32m━━━━━━━━━━━━━━━━━━━━\u001b[0m\u001b[37m\u001b[0m \u001b[1m0s\u001b[0m 394ms/step - accuracy: 0.9391 - loss: 0.1636 - val_accuracy: 0.8773 - val_loss: 0.4383\n",
            "Epoch 22/50\n",
            "\u001b[1m1/1\u001b[0m \u001b[32m━━━━━━━━━━━━━━━━━━━━\u001b[0m\u001b[37m\u001b[0m \u001b[1m1s\u001b[0m 606ms/step - accuracy: 0.9391 - loss: 0.1636 - val_accuracy: 0.8772 - val_loss: 0.4383\n",
            "Epoch 23/50\n",
            "\u001b[1m1/1\u001b[0m \u001b[32m━━━━━━━━━━━━━━━━━━━━\u001b[0m\u001b[37m\u001b[0m \u001b[1m1s\u001b[0m 619ms/step - accuracy: 0.9390 - loss: 0.1636 - val_accuracy: 0.8772 - val_loss: 0.4383\n",
            "Epoch 24/50\n",
            "\u001b[1m1/1\u001b[0m \u001b[32m━━━━━━━━━━━━━━━━━━━━\u001b[0m\u001b[37m\u001b[0m \u001b[1m0s\u001b[0m 385ms/step - accuracy: 0.9391 - loss: 0.1636 - val_accuracy: 0.8772 - val_loss: 0.4383\n",
            "Epoch 25/50\n",
            "\u001b[1m1/1\u001b[0m \u001b[32m━━━━━━━━━━━━━━━━━━━━\u001b[0m\u001b[37m\u001b[0m \u001b[1m1s\u001b[0m 784ms/step - accuracy: 0.9391 - loss: 0.1636 - val_accuracy: 0.8772 - val_loss: 0.4383\n",
            "Epoch 26/50\n",
            "\u001b[1m1/1\u001b[0m \u001b[32m━━━━━━━━━━━━━━━━━━━━\u001b[0m\u001b[37m\u001b[0m \u001b[1m1s\u001b[0m 637ms/step - accuracy: 0.9391 - loss: 0.1635 - val_accuracy: 0.8771 - val_loss: 0.4383\n",
            "Epoch 27/50\n",
            "\u001b[1m1/1\u001b[0m \u001b[32m━━━━━━━━━━━━━━━━━━━━\u001b[0m\u001b[37m\u001b[0m \u001b[1m1s\u001b[0m 1s/step - accuracy: 0.9391 - loss: 0.1635 - val_accuracy: 0.8771 - val_loss: 0.4383\n",
            "Epoch 28/50\n",
            "\u001b[1m1/1\u001b[0m \u001b[32m━━━━━━━━━━━━━━━━━━━━\u001b[0m\u001b[37m\u001b[0m \u001b[1m0s\u001b[0m 381ms/step - accuracy: 0.9391 - loss: 0.1635 - val_accuracy: 0.8771 - val_loss: 0.4383\n",
            "Epoch 29/50\n",
            "\u001b[1m1/1\u001b[0m \u001b[32m━━━━━━━━━━━━━━━━━━━━\u001b[0m\u001b[37m\u001b[0m \u001b[1m0s\u001b[0m 457ms/step - accuracy: 0.9391 - loss: 0.1635 - val_accuracy: 0.8772 - val_loss: 0.4383\n",
            "Epoch 30/50\n",
            "\u001b[1m1/1\u001b[0m \u001b[32m━━━━━━━━━━━━━━━━━━━━\u001b[0m\u001b[37m\u001b[0m \u001b[1m0s\u001b[0m 380ms/step - accuracy: 0.9391 - loss: 0.1635 - val_accuracy: 0.8773 - val_loss: 0.4383\n",
            "Epoch 31/50\n",
            "\u001b[1m1/1\u001b[0m \u001b[32m━━━━━━━━━━━━━━━━━━━━\u001b[0m\u001b[37m\u001b[0m \u001b[1m1s\u001b[0m 628ms/step - accuracy: 0.9391 - loss: 0.1635 - val_accuracy: 0.8773 - val_loss: 0.4383\n",
            "Epoch 32/50\n",
            "\u001b[1m1/1\u001b[0m \u001b[32m━━━━━━━━━━━━━━━━━━━━\u001b[0m\u001b[37m\u001b[0m \u001b[1m1s\u001b[0m 610ms/step - accuracy: 0.9391 - loss: 0.1635 - val_accuracy: 0.8773 - val_loss: 0.4383\n",
            "Epoch 33/50\n",
            "\u001b[1m1/1\u001b[0m \u001b[32m━━━━━━━━━━━━━━━━━━━━\u001b[0m\u001b[37m\u001b[0m \u001b[1m0s\u001b[0m 460ms/step - accuracy: 0.9392 - loss: 0.1635 - val_accuracy: 0.8773 - val_loss: 0.4383\n",
            "Epoch 34/50\n",
            "\u001b[1m1/1\u001b[0m \u001b[32m━━━━━━━━━━━━━━━━━━━━\u001b[0m\u001b[37m\u001b[0m \u001b[1m0s\u001b[0m 376ms/step - accuracy: 0.9392 - loss: 0.1635 - val_accuracy: 0.8773 - val_loss: 0.4383\n",
            "Epoch 35/50\n",
            "\u001b[1m1/1\u001b[0m \u001b[32m━━━━━━━━━━━━━━━━━━━━\u001b[0m\u001b[37m\u001b[0m \u001b[1m1s\u001b[0m 637ms/step - accuracy: 0.9392 - loss: 0.1635 - val_accuracy: 0.8773 - val_loss: 0.4383\n",
            "Epoch 36/50\n",
            "\u001b[1m1/1\u001b[0m \u001b[32m━━━━━━━━━━━━━━━━━━━━\u001b[0m\u001b[37m\u001b[0m \u001b[1m0s\u001b[0m 377ms/step - accuracy: 0.9392 - loss: 0.1635 - val_accuracy: 0.8772 - val_loss: 0.4383\n",
            "Epoch 37/50\n",
            "\u001b[1m1/1\u001b[0m \u001b[32m━━━━━━━━━━━━━━━━━━━━\u001b[0m\u001b[37m\u001b[0m \u001b[1m0s\u001b[0m 374ms/step - accuracy: 0.9392 - loss: 0.1635 - val_accuracy: 0.8772 - val_loss: 0.4383\n",
            "Epoch 38/50\n",
            "\u001b[1m1/1\u001b[0m \u001b[32m━━━━━━━━━━━━━━━━━━━━\u001b[0m\u001b[37m\u001b[0m \u001b[1m1s\u001b[0m 626ms/step - accuracy: 0.9392 - loss: 0.1635 - val_accuracy: 0.8772 - val_loss: 0.4383\n",
            "Epoch 39/50\n",
            "\u001b[1m1/1\u001b[0m \u001b[32m━━━━━━━━━━━━━━━━━━━━\u001b[0m\u001b[37m\u001b[0m \u001b[1m0s\u001b[0m 382ms/step - accuracy: 0.9392 - loss: 0.1635 - val_accuracy: 0.8771 - val_loss: 0.4383\n",
            "Epoch 40/50\n",
            "\u001b[1m1/1\u001b[0m \u001b[32m━━━━━━━━━━━━━━━━━━━━\u001b[0m\u001b[37m\u001b[0m \u001b[1m0s\u001b[0m 399ms/step - accuracy: 0.9392 - loss: 0.1635 - val_accuracy: 0.8771 - val_loss: 0.4383\n",
            "Epoch 41/50\n",
            "\u001b[1m1/1\u001b[0m \u001b[32m━━━━━━━━━━━━━━━━━━━━\u001b[0m\u001b[37m\u001b[0m \u001b[1m1s\u001b[0m 601ms/step - accuracy: 0.9392 - loss: 0.1634 - val_accuracy: 0.8771 - val_loss: 0.4383\n",
            "Epoch 42/50\n",
            "\u001b[1m1/1\u001b[0m \u001b[32m━━━━━━━━━━━━━━━━━━━━\u001b[0m\u001b[37m\u001b[0m \u001b[1m0s\u001b[0m 406ms/step - accuracy: 0.9392 - loss: 0.1634 - val_accuracy: 0.8770 - val_loss: 0.4383\n",
            "Epoch 43/50\n",
            "\u001b[1m1/1\u001b[0m \u001b[32m━━━━━━━━━━━━━━━━━━━━\u001b[0m\u001b[37m\u001b[0m \u001b[1m1s\u001b[0m 593ms/step - accuracy: 0.9392 - loss: 0.1634 - val_accuracy: 0.8770 - val_loss: 0.4383\n",
            "Epoch 44/50\n",
            "\u001b[1m1/1\u001b[0m \u001b[32m━━━━━━━━━━━━━━━━━━━━\u001b[0m\u001b[37m\u001b[0m \u001b[1m0s\u001b[0m 399ms/step - accuracy: 0.9392 - loss: 0.1634 - val_accuracy: 0.8770 - val_loss: 0.4383\n",
            "Epoch 45/50\n",
            "\u001b[1m1/1\u001b[0m \u001b[32m━━━━━━━━━━━━━━━━━━━━\u001b[0m\u001b[37m\u001b[0m \u001b[1m0s\u001b[0m 379ms/step - accuracy: 0.9392 - loss: 0.1634 - val_accuracy: 0.8770 - val_loss: 0.4383\n",
            "Epoch 46/50\n",
            "\u001b[1m1/1\u001b[0m \u001b[32m━━━━━━━━━━━━━━━━━━━━\u001b[0m\u001b[37m\u001b[0m \u001b[1m0s\u001b[0m 376ms/step - accuracy: 0.9392 - loss: 0.1634 - val_accuracy: 0.8770 - val_loss: 0.4383\n",
            "Epoch 47/50\n",
            "\u001b[1m1/1\u001b[0m \u001b[32m━━━━━━━━━━━━━━━━━━━━\u001b[0m\u001b[37m\u001b[0m \u001b[1m1s\u001b[0m 620ms/step - accuracy: 0.9392 - loss: 0.1634 - val_accuracy: 0.8770 - val_loss: 0.4383\n",
            "Epoch 48/50\n",
            "\u001b[1m1/1\u001b[0m \u001b[32m━━━━━━━━━━━━━━━━━━━━\u001b[0m\u001b[37m\u001b[0m \u001b[1m0s\u001b[0m 454ms/step - accuracy: 0.9392 - loss: 0.1634 - val_accuracy: 0.8768 - val_loss: 0.4383\n",
            "Epoch 49/50\n",
            "\u001b[1m1/1\u001b[0m \u001b[32m━━━━━━━━━━━━━━━━━━━━\u001b[0m\u001b[37m\u001b[0m \u001b[1m1s\u001b[0m 561ms/step - accuracy: 0.9392 - loss: 0.1634 - val_accuracy: 0.8768 - val_loss: 0.4383\n",
            "Epoch 50/50\n",
            "\u001b[1m1/1\u001b[0m \u001b[32m━━━━━━━━━━━━━━━━━━━━\u001b[0m\u001b[37m\u001b[0m \u001b[1m1s\u001b[0m 598ms/step - accuracy: 0.9393 - loss: 0.1634 - val_accuracy: 0.8768 - val_loss: 0.4383\n"
          ]
        }
      ]
    },
    {
      "cell_type": "code",
      "source": [
        "model.evaluate(X_test, y_test)"
      ],
      "metadata": {
        "colab": {
          "base_uri": "https://localhost:8080/"
        },
        "id": "R7cBPpYGG6zQ",
        "outputId": "a5382f97-9e8a-4747-997b-0ce41ed280fd"
      },
      "execution_count": 12,
      "outputs": [
        {
          "output_type": "stream",
          "name": "stdout",
          "text": [
            "\u001b[1m313/313\u001b[0m \u001b[32m━━━━━━━━━━━━━━━━━━━━\u001b[0m\u001b[37m\u001b[0m \u001b[1m0s\u001b[0m 1ms/step - accuracy: 0.8664 - loss: 0.4878\n"
          ]
        },
        {
          "output_type": "execute_result",
          "data": {
            "text/plain": [
              "[0.4727760851383209, 0.8687999844551086]"
            ]
          },
          "metadata": {},
          "execution_count": 12
        }
      ]
    }
  ]
}