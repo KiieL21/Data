{
 "cells": [
  {
   "cell_type": "markdown",
   "id": "be10f9dd-58a0-4272-bd18-ed89dc1050f8",
   "metadata": {},
   "source": [
    "# Title"
   ]
  },
  {
   "cell_type": "code",
   "execution_count": 4,
   "id": "d61b3efd-8a2c-4fca-9933-aeea43b3e3f1",
   "metadata": {},
   "outputs": [
    {
     "data": {
      "text/plain": [
       "'cihuyy, alamak'"
      ]
     },
     "execution_count": 4,
     "metadata": {},
     "output_type": "execute_result"
    }
   ],
   "source": [
    "\"cihuyy, alamak\""
   ]
  },
  {
   "cell_type": "code",
   "execution_count": 5,
   "id": "5b1ee926-f33a-4e68-9bfd-afb2b300b6c7",
   "metadata": {},
   "outputs": [
    {
     "data": {
      "text/plain": [
       "str"
      ]
     },
     "execution_count": 5,
     "metadata": {},
     "output_type": "execute_result"
    }
   ],
   "source": [
    "type(\"maklemak 2.0\")"
   ]
  },
  {
   "cell_type": "code",
   "execution_count": 7,
   "id": "eeb4c128-3827-4e2c-9c2b-3a4ff7fdf914",
   "metadata": {},
   "outputs": [
    {
     "data": {
      "text/plain": [
       "float"
      ]
     },
     "execution_count": 7,
     "metadata": {},
     "output_type": "execute_result"
    }
   ],
   "source": [
    "type(124.214)"
   ]
  },
  {
   "cell_type": "code",
   "execution_count": 8,
   "id": "1b59490d-5683-4cab-a020-45d5ac72920b",
   "metadata": {},
   "outputs": [
    {
     "data": {
      "text/plain": [
       "204288"
      ]
     },
     "execution_count": 8,
     "metadata": {},
     "output_type": "execute_result"
    }
   ],
   "source": [
    "256*798"
   ]
  },
  {
   "cell_type": "code",
   "execution_count": 13,
   "id": "c81fb04a-8e26-4817-949a-939fcd85112a",
   "metadata": {},
   "outputs": [
    {
     "name": "stdout",
     "output_type": "stream",
     "text": [
      "HELLO WORLD\n",
      "Hello World\n",
      "hello world\n"
     ]
    }
   ],
   "source": [
    "print(\"hellO World\".upper())\n",
    "print(\"hellO World\".title())\n",
    "print(\"hellO World\".lower())"
   ]
  },
  {
   "cell_type": "code",
   "execution_count": 11,
   "id": "56867181-a40f-4ed7-a12b-860298e0fd4e",
   "metadata": {},
   "outputs": [
    {
     "data": {
      "text/plain": [
       "'hello world'"
      ]
     },
     "execution_count": 11,
     "metadata": {},
     "output_type": "execute_result"
    }
   ],
   "source": [
    "\"hellO World\".lower()"
   ]
  },
  {
   "cell_type": "code",
   "execution_count": 16,
   "id": "30390949-6624-41e4-a21a-53062cbe4536",
   "metadata": {},
   "outputs": [
    {
     "data": {
      "text/plain": [
       "3"
      ]
     },
     "execution_count": 16,
     "metadata": {},
     "output_type": "execute_result"
    }
   ],
   "source": [
    "\"Hello world\".count ('l')"
   ]
  },
  {
   "cell_type": "code",
   "execution_count": 18,
   "id": "3526c770-1d4f-49fd-9009-4f13a20f83c6",
   "metadata": {},
   "outputs": [
    {
     "data": {
      "text/plain": [
       "'Hella warld'"
      ]
     },
     "execution_count": 18,
     "metadata": {},
     "output_type": "execute_result"
    }
   ],
   "source": [
    "\"Hello world\".replace('o', 'a')"
   ]
  },
  {
   "cell_type": "markdown",
   "id": "cb412af6-8236-43af-8f7f-7749aca99e33",
   "metadata": {},
   "source": [
    "# 3 Variables"
   ]
  },
  {
   "cell_type": "code",
   "execution_count": 22,
   "id": "d53ab031-2f0d-4eaf-914c-caff4ad15a98",
   "metadata": {},
   "outputs": [
    {
     "data": {
      "text/plain": [
       "\"I'm belajar cenah\""
      ]
     },
     "execution_count": 22,
     "metadata": {},
     "output_type": "execute_result"
    }
   ],
   "source": [
    "message_1 = \"I'm belajar cenah\"\n",
    "message_1"
   ]
  },
  {
   "cell_type": "code",
   "execution_count": 24,
   "id": "dcdd7e63-2776-44ac-a823-a6417af61694",
   "metadata": {},
   "outputs": [
    {
     "data": {
      "text/plain": [
       "'dan dontol pergi'"
      ]
     },
     "execution_count": 24,
     "metadata": {},
     "output_type": "execute_result"
    }
   ],
   "source": [
    "msg_2 = \"dan dontol pergi\"\n",
    "msg_2"
   ]
  },
  {
   "cell_type": "code",
   "execution_count": 27,
   "id": "17829f87-9eca-4c30-b27b-2c2fa63d163d",
   "metadata": {},
   "outputs": [
    {
     "data": {
      "text/plain": [
       "\"I'm belajar cenah dan dontol pergi oge\""
      ]
     },
     "execution_count": 27,
     "metadata": {},
     "output_type": "execute_result"
    }
   ],
   "source": [
    "f'{message_1} {msg_2} oge'"
   ]
  },
  {
   "cell_type": "markdown",
   "id": "f0b7e01a-7e27-4468-a689-44fbc48239ad",
   "metadata": {},
   "source": [
    "# 4 List"
   ]
  },
  {
   "cell_type": "code",
   "execution_count": 28,
   "id": "8bb6acf9-3486-44e7-aa02-e9342b76d148",
   "metadata": {},
   "outputs": [],
   "source": [
    "countries = ['Indonesia', 'Nigeria', 'Jepang', 'United States', 'Brazil']"
   ]
  },
  {
   "cell_type": "code",
   "execution_count": 29,
   "id": "d8347632-29ff-419b-b76f-443d64480422",
   "metadata": {},
   "outputs": [
    {
     "data": {
      "text/plain": [
       "['Indonesia', 'Nigeria', 'Jepang', 'United States', 'Brazil']"
      ]
     },
     "execution_count": 29,
     "metadata": {},
     "output_type": "execute_result"
    }
   ],
   "source": [
    "countries"
   ]
  },
  {
   "cell_type": "code",
   "execution_count": 33,
   "id": "fd70c3d0-0e9f-47c7-a8ec-76c8f53eea59",
   "metadata": {},
   "outputs": [
    {
     "name": "stdout",
     "output_type": "stream",
     "text": [
      "Indonesia\n",
      "Nigeria\n",
      "Brazil\n"
     ]
    }
   ],
   "source": [
    "print(countries[0])\n",
    "print(countries[1])\n",
    "print(countries[4])"
   ]
  },
  {
   "cell_type": "code",
   "execution_count": 34,
   "id": "845b3954-8117-4413-8e1e-7c9a8755456d",
   "metadata": {},
   "outputs": [
    {
     "data": {
      "text/plain": [
       "'Brazil'"
      ]
     },
     "execution_count": 34,
     "metadata": {},
     "output_type": "execute_result"
    }
   ],
   "source": [
    "countries[-1]"
   ]
  },
  {
   "cell_type": "code",
   "execution_count": 35,
   "id": "98782bea-dc11-4047-88d6-e157ce03e7d0",
   "metadata": {},
   "outputs": [
    {
     "data": {
      "text/plain": [
       "'Indonesia'"
      ]
     },
     "execution_count": 35,
     "metadata": {},
     "output_type": "execute_result"
    }
   ],
   "source": [
    "countries[-5]"
   ]
  },
  {
   "cell_type": "raw",
   "id": "a46d8cf4-9128-43eb-9ebb-81df16257595",
   "metadata": {},
   "source": [
    "#slicing\n",
    "list_name[start:stop]"
   ]
  },
  {
   "cell_type": "code",
   "execution_count": 40,
   "id": "e546a076-9c3f-4b20-b711-44f0ea73567b",
   "metadata": {},
   "outputs": [
    {
     "data": {
      "text/plain": [
       "['Indonesia', 'Nigeria', 'Jepang']"
      ]
     },
     "execution_count": 40,
     "metadata": {},
     "output_type": "execute_result"
    }
   ],
   "source": [
    "countries[0:3]"
   ]
  },
  {
   "cell_type": "code",
   "execution_count": 41,
   "id": "32fd4bcb-3981-45fe-bb04-0014cb83a021",
   "metadata": {},
   "outputs": [
    {
     "data": {
      "text/plain": [
       "['Indonesia', 'Nigeria', 'Jepang', 'United States', 'Brazil']"
      ]
     },
     "execution_count": 41,
     "metadata": {},
     "output_type": "execute_result"
    }
   ],
   "source": [
    "countries[0:]"
   ]
  },
  {
   "cell_type": "code",
   "execution_count": 42,
   "id": "0c8d4487-e232-41b0-9e6a-c960c64d8043",
   "metadata": {},
   "outputs": [
    {
     "data": {
      "text/plain": [
       "['Indonesia', 'Nigeria']"
      ]
     },
     "execution_count": 42,
     "metadata": {},
     "output_type": "execute_result"
    }
   ],
   "source": [
    "countries[:2]"
   ]
  },
  {
   "cell_type": "markdown",
   "id": "9a9a020f-6302-4a0d-9246-257206c9c8b9",
   "metadata": {},
   "source": [
    "## 4.1 Adding elements to list"
   ]
  },
  {
   "cell_type": "code",
   "execution_count": 43,
   "id": "9698fb52-c492-4a15-b445-e828ff441b54",
   "metadata": {},
   "outputs": [
    {
     "data": {
      "text/plain": [
       "['Indonesia', 'Nigeria', 'Jepang', 'United States', 'Brazil']"
      ]
     },
     "execution_count": 43,
     "metadata": {},
     "output_type": "execute_result"
    }
   ],
   "source": [
    "countries"
   ]
  },
  {
   "cell_type": "code",
   "execution_count": 44,
   "id": "383a2787-aa69-4737-9ab1-a35078444365",
   "metadata": {},
   "outputs": [],
   "source": [
    "countries.append('Singapore')"
   ]
  },
  {
   "cell_type": "code",
   "execution_count": 45,
   "id": "ab64e1c6-a39e-4adf-a43c-7d54f73a854b",
   "metadata": {},
   "outputs": [
    {
     "data": {
      "text/plain": [
       "['Indonesia', 'Nigeria', 'Jepang', 'United States', 'Brazil', 'Singapore']"
      ]
     },
     "execution_count": 45,
     "metadata": {},
     "output_type": "execute_result"
    }
   ],
   "source": [
    "countries"
   ]
  },
  {
   "cell_type": "code",
   "execution_count": 46,
   "id": "156859ca-5fe2-4600-bdcc-be10a21eaaa4",
   "metadata": {},
   "outputs": [],
   "source": [
    "countries.insert(0,'Korea')"
   ]
  },
  {
   "cell_type": "code",
   "execution_count": 47,
   "id": "c73cc875-ad37-48fe-882e-e32db09df939",
   "metadata": {},
   "outputs": [
    {
     "data": {
      "text/plain": [
       "['Korea',\n",
       " 'Indonesia',\n",
       " 'Nigeria',\n",
       " 'Jepang',\n",
       " 'United States',\n",
       " 'Brazil',\n",
       " 'Singapore']"
      ]
     },
     "execution_count": 47,
     "metadata": {},
     "output_type": "execute_result"
    }
   ],
   "source": [
    "countries"
   ]
  },
  {
   "cell_type": "code",
   "execution_count": 48,
   "id": "55018d5e-a760-4daf-aadb-f7a0f349f410",
   "metadata": {},
   "outputs": [],
   "source": [
    "c2 = ['Finland', 'German', 'Australia']"
   ]
  },
  {
   "cell_type": "code",
   "execution_count": 49,
   "id": "d769e270-d7e9-461b-aece-923e1459d812",
   "metadata": {},
   "outputs": [
    {
     "data": {
      "text/plain": [
       "['Korea',\n",
       " 'Indonesia',\n",
       " 'Nigeria',\n",
       " 'Jepang',\n",
       " 'United States',\n",
       " 'Brazil',\n",
       " 'Singapore',\n",
       " 'Finland',\n",
       " 'German',\n",
       " 'Australia']"
      ]
     },
     "execution_count": 49,
     "metadata": {},
     "output_type": "execute_result"
    }
   ],
   "source": [
    "countries + c2"
   ]
  },
  {
   "cell_type": "code",
   "execution_count": 50,
   "id": "e243e15f-ac2a-4403-a8f4-af95c6b4a849",
   "metadata": {},
   "outputs": [
    {
     "data": {
      "text/plain": [
       "[['Korea',\n",
       "  'Indonesia',\n",
       "  'Nigeria',\n",
       "  'Jepang',\n",
       "  'United States',\n",
       "  'Brazil',\n",
       "  'Singapore'],\n",
       " ['Finland', 'German', 'Australia']]"
      ]
     },
     "execution_count": 50,
     "metadata": {},
     "output_type": "execute_result"
    }
   ],
   "source": [
    "[countries, c2]"
   ]
  },
  {
   "cell_type": "markdown",
   "id": "bc8e0e24-a868-4f31-bc83-c94a9a8ac786",
   "metadata": {},
   "source": [
    "## 4.2 removing an elements"
   ]
  },
  {
   "cell_type": "code",
   "execution_count": 52,
   "id": "81e7c62c-dca6-4229-bbbb-27ea96593568",
   "metadata": {},
   "outputs": [
    {
     "data": {
      "text/plain": [
       "['Korea',\n",
       " 'Indonesia',\n",
       " 'Nigeria',\n",
       " 'Jepang',\n",
       " 'United States',\n",
       " 'Brazil',\n",
       " 'Singapore']"
      ]
     },
     "execution_count": 52,
     "metadata": {},
     "output_type": "execute_result"
    }
   ],
   "source": [
    "countries"
   ]
  },
  {
   "cell_type": "code",
   "execution_count": 53,
   "id": "134c7c39-f76a-4c1c-b296-48294295341c",
   "metadata": {},
   "outputs": [],
   "source": [
    "countries.remove('United States')"
   ]
  },
  {
   "cell_type": "code",
   "execution_count": 54,
   "id": "76ca5da2-7a74-4788-965c-a377f7ce1ae0",
   "metadata": {},
   "outputs": [
    {
     "data": {
      "text/plain": [
       "['Korea', 'Indonesia', 'Nigeria', 'Jepang', 'Brazil', 'Singapore']"
      ]
     },
     "execution_count": 54,
     "metadata": {},
     "output_type": "execute_result"
    }
   ],
   "source": [
    "countries"
   ]
  },
  {
   "cell_type": "code",
   "execution_count": 55,
   "id": "13337d28-e035-4797-bff1-97ad21ef7167",
   "metadata": {},
   "outputs": [
    {
     "data": {
      "text/plain": [
       "'Nigeria'"
      ]
     },
     "execution_count": 55,
     "metadata": {},
     "output_type": "execute_result"
    }
   ],
   "source": [
    "countries.pop(2)"
   ]
  },
  {
   "cell_type": "code",
   "execution_count": 56,
   "id": "e01316cc-1a42-47c9-b502-fe5c517bf3b7",
   "metadata": {},
   "outputs": [
    {
     "data": {
      "text/plain": [
       "['Korea', 'Indonesia', 'Jepang', 'Brazil', 'Singapore']"
      ]
     },
     "execution_count": 56,
     "metadata": {},
     "output_type": "execute_result"
    }
   ],
   "source": [
    "countries"
   ]
  },
  {
   "cell_type": "code",
   "execution_count": 57,
   "id": "d8419624-f702-461d-915c-32ddfddf7063",
   "metadata": {},
   "outputs": [],
   "source": [
    "del countries [0]"
   ]
  },
  {
   "cell_type": "code",
   "execution_count": 58,
   "id": "11480ad4-fa34-4f0d-a625-1be71089b091",
   "metadata": {},
   "outputs": [
    {
     "data": {
      "text/plain": [
       "['Indonesia', 'Jepang', 'Brazil', 'Singapore']"
      ]
     },
     "execution_count": 58,
     "metadata": {},
     "output_type": "execute_result"
    }
   ],
   "source": [
    "countries"
   ]
  },
  {
   "cell_type": "markdown",
   "id": "db9ac548-4d69-4210-af65-47919bccb4be",
   "metadata": {},
   "source": [
    "## 4.3 Sorting list"
   ]
  },
  {
   "cell_type": "code",
   "execution_count": 2,
   "id": "7551ecdf-04fe-4314-8e78-62e89aaecb5e",
   "metadata": {
    "scrolled": true
   },
   "outputs": [],
   "source": [
    "num = [4, 5, 7, 11, 21, 90, 9]"
   ]
  },
  {
   "cell_type": "code",
   "execution_count": 3,
   "id": "2abee162-5a24-430e-8815-4e7396d7c414",
   "metadata": {},
   "outputs": [
    {
     "data": {
      "text/plain": [
       "[4, 5, 7, 9, 11, 21, 90]"
      ]
     },
     "execution_count": 3,
     "metadata": {},
     "output_type": "execute_result"
    }
   ],
   "source": [
    "num.sort()\n",
    "num"
   ]
  },
  {
   "cell_type": "code",
   "execution_count": 4,
   "id": "40241351-03ff-449d-b0a0-f5f635bd974c",
   "metadata": {},
   "outputs": [
    {
     "data": {
      "text/plain": [
       "[90, 21, 11, 9, 7, 5, 4]"
      ]
     },
     "execution_count": 4,
     "metadata": {},
     "output_type": "execute_result"
    }
   ],
   "source": [
    "num.sort(reverse = True)\n",
    "num"
   ]
  },
  {
   "cell_type": "markdown",
   "id": "ae5436b8-840e-447f-9ffe-089a123a8256",
   "metadata": {},
   "source": [
    "## 4.4 Update Element"
   ]
  },
  {
   "cell_type": "code",
   "execution_count": 5,
   "id": "ad1e6076-6ff1-45dd-813c-10510bb2e378",
   "metadata": {},
   "outputs": [
    {
     "data": {
      "text/plain": [
       "[100, 21, 11, 9, 7, 5, 4]"
      ]
     },
     "execution_count": 5,
     "metadata": {},
     "output_type": "execute_result"
    }
   ],
   "source": [
    "num[0] = 100\n",
    "num"
   ]
  },
  {
   "cell_type": "markdown",
   "id": "6c96c8ce-42aa-4934-b694-5449bf80dfaf",
   "metadata": {},
   "source": [
    "## 4.5 Copy list"
   ]
  },
  {
   "cell_type": "code",
   "execution_count": 8,
   "id": "785022ec-fb88-4538-bb05-b093fcd53301",
   "metadata": {},
   "outputs": [
    {
     "data": {
      "text/plain": [
       "[100, 21, 11, 9, 7, 5, 4]"
      ]
     },
     "execution_count": 8,
     "metadata": {},
     "output_type": "execute_result"
    }
   ],
   "source": [
    "num[:]"
   ]
  },
  {
   "cell_type": "code",
   "execution_count": 12,
   "id": "3c676769-453d-4d4e-a8b3-1a1d52179154",
   "metadata": {},
   "outputs": [
    {
     "name": "stdout",
     "output_type": "stream",
     "text": [
      "['Indonesia', 'Nigeria', 'Jepang', 'United States', 'Brazil']\n",
      "[100, 21, 11, 9, 7, 5, 4]\n"
     ]
    }
   ],
   "source": [
    "countries = ['Indonesia', 'Nigeria', 'Jepang', 'United States', 'Brazil']\n",
    "print(countries[:])\n",
    "print(num[:])"
   ]
  },
  {
   "cell_type": "code",
   "execution_count": 14,
   "id": "e1e4765a-1f2f-477d-a742-1ce9d7dda718",
   "metadata": {},
   "outputs": [],
   "source": [
    "new_list = countries[:]"
   ]
  },
  {
   "cell_type": "code",
   "execution_count": 15,
   "id": "3a572159-9d9a-4a50-853f-0098a63d7588",
   "metadata": {},
   "outputs": [
    {
     "data": {
      "text/plain": [
       "['Indonesia', 'Nigeria', 'Jepang', 'United States', 'Brazil']"
      ]
     },
     "execution_count": 15,
     "metadata": {},
     "output_type": "execute_result"
    }
   ],
   "source": [
    "new_list"
   ]
  },
  {
   "cell_type": "code",
   "execution_count": 17,
   "id": "c00d262c-dbeb-4103-97ee-36d26dd69c8c",
   "metadata": {},
   "outputs": [
    {
     "data": {
      "text/plain": [
       "['Indonesia', 'Nigeria', 'Jepang', 'United States', 'Brazil']"
      ]
     },
     "execution_count": 17,
     "metadata": {},
     "output_type": "execute_result"
    }
   ],
   "source": [
    "new_listt = countries.copy()\n",
    "new_listt"
   ]
  },
  {
   "cell_type": "markdown",
   "id": "75ed58b6-e479-4f79-aad6-e18c56080c98",
   "metadata": {},
   "source": [
    "# 5 Dictionary"
   ]
  },
  {
   "cell_type": "code",
   "execution_count": 44,
   "id": "96382c56-9907-4273-9b4a-4c318b86463c",
   "metadata": {},
   "outputs": [
    {
     "data": {
      "text/plain": [
       "{'nama': 'jali', 'umur': 21}"
      ]
     },
     "execution_count": 44,
     "metadata": {},
     "output_type": "execute_result"
    }
   ],
   "source": [
    "data = {'nama':'jali','umur':21}\n",
    "data"
   ]
  },
  {
   "cell_type": "code",
   "execution_count": 19,
   "id": "e67bd11b-8fce-473a-9a26-e3580d18d69b",
   "metadata": {},
   "outputs": [
    {
     "data": {
      "text/plain": [
       "dict_keys(['nama', 'umur'])"
      ]
     },
     "execution_count": 19,
     "metadata": {},
     "output_type": "execute_result"
    }
   ],
   "source": [
    "data.keys()"
   ]
  },
  {
   "cell_type": "code",
   "execution_count": 20,
   "id": "bb1bcec8-1542-4adb-882b-adf68cc41db1",
   "metadata": {},
   "outputs": [
    {
     "data": {
      "text/plain": [
       "dict_values(['jali', 21])"
      ]
     },
     "execution_count": 20,
     "metadata": {},
     "output_type": "execute_result"
    }
   ],
   "source": [
    "data.values()"
   ]
  },
  {
   "cell_type": "code",
   "execution_count": 21,
   "id": "8d3ebc92-b8d6-45db-ba2e-b6c67b11eb82",
   "metadata": {},
   "outputs": [
    {
     "data": {
      "text/plain": [
       "dict_items([('nama', 'jali'), ('umur', 21)])"
      ]
     },
     "execution_count": 21,
     "metadata": {},
     "output_type": "execute_result"
    }
   ],
   "source": [
    "data.items()"
   ]
  },
  {
   "cell_type": "code",
   "execution_count": 23,
   "id": "7ca93b15-b747-4418-b8a8-881bf470775f",
   "metadata": {},
   "outputs": [
    {
     "data": {
      "text/plain": [
       "{'nama': 'jali', 'umur': 21, 'tinggi': 170}"
      ]
     },
     "execution_count": 23,
     "metadata": {},
     "output_type": "execute_result"
    }
   ],
   "source": [
    "data['tinggi'] = 170 # untuk tambah data ke dict\n",
    "data"
   ]
  },
  {
   "cell_type": "code",
   "execution_count": 45,
   "id": "70f37370-5ca3-41e4-8382-7781397731eb",
   "metadata": {},
   "outputs": [
    {
     "data": {
      "text/plain": [
       "{'nama': 'jali', 'umur': 21, 'tinggi': 181}"
      ]
     },
     "execution_count": 45,
     "metadata": {},
     "output_type": "execute_result"
    }
   ],
   "source": [
    "data.update({'tinggi':181})\n",
    "data"
   ]
  },
  {
   "cell_type": "markdown",
   "id": "5b9240c6-da68-43a8-95c8-d8a28645422c",
   "metadata": {},
   "source": [
    "## 5.1 Copy dict"
   ]
  },
  {
   "cell_type": "code",
   "execution_count": 49,
   "id": "47d332f8-f330-47cb-85b8-e3fb5d3d8f4a",
   "metadata": {},
   "outputs": [
    {
     "data": {
      "text/plain": [
       "{'nama': 'jali', 'umur': 21, 'tinggi': 181}"
      ]
     },
     "execution_count": 49,
     "metadata": {},
     "output_type": "execute_result"
    }
   ],
   "source": [
    "new_dict = data.copy()\n",
    "new_dict"
   ]
  },
  {
   "cell_type": "code",
   "execution_count": 46,
   "id": "dad79c31-eaf6-4737-a44c-5f01dbac0417",
   "metadata": {},
   "outputs": [
    {
     "data": {
      "text/plain": [
       "{'nama': 'jali', 'umur': 21, 'tinggi': 181}"
      ]
     },
     "execution_count": 46,
     "metadata": {},
     "output_type": "execute_result"
    }
   ],
   "source": [
    "new_dictt = data #jika data awal berganti ini akan ikut berganti\n",
    "new_dictt"
   ]
  },
  {
   "cell_type": "markdown",
   "id": "c549389d-5e00-4575-80f5-8e6ef65205d3",
   "metadata": {},
   "source": [
    "## 5.2 Remove element\n"
   ]
  },
  {
   "cell_type": "code",
   "execution_count": 33,
   "id": "e73456e7-f7d1-4b5a-a1ed-e4638c059f99",
   "metadata": {},
   "outputs": [],
   "source": [
    "# intinya pake .pop sama aja"
   ]
  },
  {
   "cell_type": "code",
   "execution_count": 50,
   "id": "c8674d73-ae6e-4c12-a49e-a8b4807cac06",
   "metadata": {},
   "outputs": [
    {
     "data": {
      "text/plain": [
       "{'nama': 'jali', 'tinggi': 181}"
      ]
     },
     "execution_count": 50,
     "metadata": {},
     "output_type": "execute_result"
    }
   ],
   "source": [
    "del new_dict ['umur'] # kalo ke double jadi error dia\n",
    "new_dict"
   ]
  },
  {
   "cell_type": "code",
   "execution_count": 51,
   "id": "8cce06b6-7d0a-43b9-8149-349db4aaa897",
   "metadata": {},
   "outputs": [],
   "source": [
    "# .clear untuk hapus semua"
   ]
  },
  {
   "cell_type": "markdown",
   "id": "fa0c11f4-5c62-41a1-bbd8-d6377a98febe",
   "metadata": {},
   "source": [
    "# 6 If state"
   ]
  },
  {
   "cell_type": "code",
   "execution_count": 52,
   "id": "f0027151-e0a7-44ad-969a-4d6388cea032",
   "metadata": {},
   "outputs": [],
   "source": [
    "# if kayak coding biasa"
   ]
  },
  {
   "cell_type": "markdown",
   "id": "6f9a50f8-bfcd-49aa-b077-963667a6f1de",
   "metadata": {},
   "source": [
    "# 7 for loop"
   ]
  },
  {
   "cell_type": "code",
   "execution_count": 53,
   "id": "ef60e710-31e6-4fd8-8bad-37faaa0dca6a",
   "metadata": {},
   "outputs": [],
   "source": [
    "# sama juga kayak coding pada umumnya"
   ]
  },
  {
   "cell_type": "markdown",
   "id": "30475b46-3e7d-4faa-aecc-d5f3dd975da2",
   "metadata": {},
   "source": [
    "# 8 Functions"
   ]
  },
  {
   "cell_type": "code",
   "execution_count": 54,
   "id": "042c7685-f138-431f-9a7c-5dac082e2329",
   "metadata": {},
   "outputs": [],
   "source": [
    "# masih sama\n"
   ]
  },
  {
   "cell_type": "markdown",
   "id": "f4b43e6c-3b53-4889-bbbb-ac68e98dad82",
   "metadata": {},
   "source": [
    "# 9 Modules"
   ]
  },
  {
   "cell_type": "code",
   "execution_count": 55,
   "id": "7cceafc3-9978-4288-a1a0-1c3827b64a16",
   "metadata": {},
   "outputs": [],
   "source": [
    "#library"
   ]
  },
  {
   "cell_type": "markdown",
   "id": "f444f9fc-6023-4f9a-99ee-733e745adc68",
   "metadata": {},
   "source": [
    "## 9.1 OS"
   ]
  },
  {
   "cell_type": "code",
   "execution_count": 56,
   "id": "ac9fd2b3-0ecb-4e40-b757-2e8d9025765f",
   "metadata": {},
   "outputs": [],
   "source": [
    "import os"
   ]
  },
  {
   "cell_type": "code",
   "execution_count": 57,
   "id": "4d17e089-02d8-4935-8f96-382d0be1bc7e",
   "metadata": {},
   "outputs": [
    {
     "data": {
      "text/plain": [
       "'C:\\\\Users\\\\fahri'"
      ]
     },
     "execution_count": 57,
     "metadata": {},
     "output_type": "execute_result"
    }
   ],
   "source": [
    "os.getcwd()"
   ]
  },
  {
   "cell_type": "code",
   "execution_count": 58,
   "id": "c9b33b21-3331-4415-90ca-a73c84001099",
   "metadata": {},
   "outputs": [
    {
     "data": {
      "text/plain": [
       "['-1.14-windows.xml',\n",
       " '.anaconda',\n",
       " '.android',\n",
       " '.arduinoIDE',\n",
       " '.cache',\n",
       " '.conda',\n",
       " '.condarc',\n",
       " '.continuum',\n",
       " '.dendron',\n",
       " '.dendron.uuid',\n",
       " '.eclipse',\n",
       " '.gradle',\n",
       " '.idlerc',\n",
       " '.ipynb_checkpoints',\n",
       " '.ipython',\n",
       " '.jupyter',\n",
       " '.keras',\n",
       " '.Ld9VirtualBox',\n",
       " '.matplotlib',\n",
       " '.MUMUVMM',\n",
       " '.nbi',\n",
       " '.openjfx',\n",
       " '.p2',\n",
       " '.packettracer',\n",
       " '.ssh',\n",
       " '.VirtualBox',\n",
       " '.virtual_documents',\n",
       " '.vscode',\n",
       " '.vscode-print-resource-cache',\n",
       " '.vscode-R',\n",
       " '.xdm-app-data',\n",
       " '.xdm-global-lock',\n",
       " '.xdman',\n",
       " 'anaconda_projects',\n",
       " 'AndroidStudioProjects',\n",
       " 'ansel',\n",
       " 'AppData',\n",
       " 'Application Data',\n",
       " 'bluej',\n",
       " 'Calibre Library',\n",
       " 'Cisco Packet Tracer 8.2.1',\n",
       " 'Coba.ipynb',\n",
       " 'Contacts',\n",
       " 'Cookies',\n",
       " 'd4ac4633ebd6440fa397b84f1bc94a3c.7z',\n",
       " 'Dendron',\n",
       " 'Desktop',\n",
       " 'Documents',\n",
       " 'Downloads',\n",
       " 'Dropbox',\n",
       " 'eclipse',\n",
       " 'eclipse-workspace',\n",
       " 'Favorites',\n",
       " 'Games',\n",
       " 'inittk.ini',\n",
       " 'inst.ini',\n",
       " 'Jupyter dummy',\n",
       " 'L02',\n",
       " 'Links',\n",
       " 'Local Settings',\n",
       " 'mumu_boot.txt',\n",
       " 'Muse Hub',\n",
       " 'Music',\n",
       " 'My Documents',\n",
       " 'NetHood',\n",
       " 'Nox_share',\n",
       " 'NTUSER.DAT',\n",
       " 'ntuser.dat.LOG1',\n",
       " 'ntuser.dat.LOG2',\n",
       " 'NTUSER.DAT{2ad838bc-efea-11ee-a54d-000d3a94eaa1}.TM.blf',\n",
       " 'NTUSER.DAT{2ad838bc-efea-11ee-a54d-000d3a94eaa1}.TMContainer00000000000000000001.regtrans-ms',\n",
       " 'NTUSER.DAT{2ad838bc-efea-11ee-a54d-000d3a94eaa1}.TMContainer00000000000000000002.regtrans-ms',\n",
       " 'ntuser.ini',\n",
       " 'nuuid.ini',\n",
       " 'OneDrive',\n",
       " 'OneDrive - Politeknik Negeri Bandung',\n",
       " 'Pictures',\n",
       " 'PrintHood',\n",
       " 'Project D1',\n",
       " 'Recent',\n",
       " 'Saved Games',\n",
       " 'Searches',\n",
       " 'SendTo',\n",
       " 'Start Menu',\n",
       " 'Templates',\n",
       " 'test',\n",
       " 'useruid.ini',\n",
       " 'Videos',\n",
       " 'VirtualBox VMs',\n",
       " 'vmlogs']"
      ]
     },
     "execution_count": 58,
     "metadata": {},
     "output_type": "execute_result"
    }
   ],
   "source": [
    "os.listdir()"
   ]
  },
  {
   "cell_type": "code",
   "execution_count": null,
   "id": "4cd5b403-76ef-4bbd-8981-f490b5f05f53",
   "metadata": {},
   "outputs": [],
   "source": []
  }
 ],
 "metadata": {
  "kernelspec": {
   "display_name": "Python 3 (ipykernel)",
   "language": "python",
   "name": "python3"
  },
  "language_info": {
   "codemirror_mode": {
    "name": "ipython",
    "version": 3
   },
   "file_extension": ".py",
   "mimetype": "text/x-python",
   "name": "python",
   "nbconvert_exporter": "python",
   "pygments_lexer": "ipython3",
   "version": "3.12.4"
  }
 },
 "nbformat": 4,
 "nbformat_minor": 5
}
